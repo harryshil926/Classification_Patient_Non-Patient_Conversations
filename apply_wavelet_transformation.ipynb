{
  "nbformat": 4,
  "nbformat_minor": 0,
  "metadata": {
    "colab": {
      "name": "apply_wavelet_transformation.ipynb",
      "provenance": [],
      "collapsed_sections": [],
      "authorship_tag": "ABX9TyPiDxGJWUppB3VHEmTFWTsV",
      "include_colab_link": true
    },
    "kernelspec": {
      "name": "python3",
      "display_name": "Python 3"
    },
    "language_info": {
      "name": "python"
    }
  },
  "cells": [
    {
      "cell_type": "markdown",
      "metadata": {
        "id": "view-in-github",
        "colab_type": "text"
      },
      "source": [
        "<a href=\"https://colab.research.google.com/github/harryshil926/Classification_Patient_Non-Patient_Conversations/blob/master/apply_wavelet_transformation.ipynb\" target=\"_parent\"><img src=\"https://colab.research.google.com/assets/colab-badge.svg\" alt=\"Open In Colab\"/></a>"
      ]
    },
    {
      "cell_type": "code",
      "metadata": {
        "id": "HD5Qi_58dyp0"
      },
      "source": [
        "from google.colab import drive\n",
        "import os\n",
        "import cv2\n",
        "import numpy as np\n",
        "from skimage.segmentation import slic\n",
        "from skimage.segmentation import mark_boundaries\n",
        "import matplotlib.pyplot as plt\n",
        "from skimage.color import rgb2gray\n",
        "import numpy as np\n",
        "from google.colab.patches import cv2_imshow\n",
        "import warnings\n",
        "warnings.filterwarnings(\"ignore\")\n",
        "from skimage import data, segmentation, color\n",
        "from skimage.future import graph\n",
        "from torchvision import transforms"
      ],
      "execution_count": 2,
      "outputs": []
    },
    {
      "cell_type": "code",
      "metadata": {
        "colab": {
          "base_uri": "https://localhost:8080/"
        },
        "id": "-rFNtUAxd7E2",
        "outputId": "cdf5c15e-bbe4-43f3-bbbc-cee8520ba7c7"
      },
      "source": [
        "drive.mount('/content/gdrive')"
      ],
      "execution_count": 3,
      "outputs": [
        {
          "output_type": "stream",
          "name": "stdout",
          "text": [
            "Mounted at /content/gdrive\n"
          ]
        }
      ]
    },
    {
      "cell_type": "code",
      "metadata": {
        "id": "ktWY2mESd9Q1"
      },
      "source": [
        "def load_data(path,images_to_load=50,resize=True,resize_dim=(512,512),valid_suffix='Mask'):\n",
        "  '''\n",
        "  path : The path where the images are located.\n",
        "  images_to_load : Maximum number of images to load.\n",
        "  resize : Whether to resize the image.\n",
        "  resize_dim : Specify dimensions for resizing, used only when resize=True.\n",
        "\n",
        "  Return\n",
        "  ------\n",
        "  Loaded image and filename as a tuple for each entry.\n",
        "  '''\n",
        "  valid_images = [valid_suffix]\n",
        "  img_dict = {}\n",
        "  for f in os.listdir(path):\n",
        "    ext = os.path.splitext(f)[0]\n",
        "    if ext.split('_')[1] not in valid_images:\n",
        "        continue\n",
        "    img = cv2.imread(os.path.join(path,f))\n",
        "    if resize:\n",
        "      img = cv2.resize(img, resize_dim)\n",
        "    img_dict.update({f[:4]:img})\n",
        "  return img_dict\n"
      ],
      "execution_count": 5,
      "outputs": []
    },
    {
      "cell_type": "code",
      "metadata": {
        "id": "hlhbLmTceEpd"
      },
      "source": [
        "melanoma_img_path = '/content/gdrive/MyDrive/CS_EE_577/Dataset/SegmentedImages_NormalizedCut/Melanoma/'\n",
        "non_melanoma_img_path = '/content/gdrive/MyDrive/CS_EE_577/Dataset/SegmentedImages_NormalizedCut/Non_Melanoma/'"
      ],
      "execution_count": 6,
      "outputs": []
    },
    {
      "cell_type": "code",
      "metadata": {
        "id": "_-tppC8g9tPD"
      },
      "source": [
        "m_segment_dict = load_data(melanoma_img_path,valid_suffix='SegmentedImage')\n",
        "nm_segment_dict = load_data(melanoma_img_path,valid_suffix='SegmentedImage')"
      ],
      "execution_count": 7,
      "outputs": []
    },
    {
      "cell_type": "code",
      "metadata": {
        "colab": {
          "base_uri": "https://localhost:8080/"
        },
        "id": "rje37EQDLqo0",
        "outputId": "bafa5b12-4cc6-40af-a9bb-578dd17753e1"
      },
      "source": [
        "m_segment_dict.keys()"
      ],
      "execution_count": 8,
      "outputs": [
        {
          "output_type": "execute_result",
          "data": {
            "text/plain": [
              "dict_keys(['0101', '0121', '0132', '0137', '0187', '0203', '0207', '0218', '0229', '0230'])"
            ]
          },
          "metadata": {},
          "execution_count": 8
        }
      ]
    },
    {
      "cell_type": "code",
      "metadata": {
        "id": "hk2XLF1WL35n"
      },
      "source": [
        "melanoma_img_path = '/content/gdrive/MyDrive/CS_EE_577/Dataset/SegmentedImages_NormalizedCut/Melanoma/'\n",
        "m_depth_segment_dict = load_data(melanoma_img_path,valid_suffix='SegmentedImage')"
      ],
      "execution_count": 10,
      "outputs": []
    },
    {
      "cell_type": "code",
      "metadata": {
        "id": "UvrcKTvTeCkd"
      },
      "source": [
        "img = m_segment_dict['0101'].swapaxes(0,2)\n"
      ],
      "execution_count": 11,
      "outputs": []
    },
    {
      "cell_type": "code",
      "metadata": {
        "colab": {
          "base_uri": "https://localhost:8080/",
          "height": 529
        },
        "id": "xIAuXLJALG_o",
        "outputId": "99cc4ec6-2042-4c2a-ed42-1d1030f30334"
      },
      "source": [
        "cv2_imshow(m_segment_dict['0101'])"
      ],
      "execution_count": 12,
      "outputs": [
        {
          "output_type": "display_data",
          "data": {
            "image/png": "[encoded data removed]",
            "text/plain": [
              "<PIL.Image.Image image mode=RGB size=512x512 at 0x7F66C645FA10>"
            ]
          },
          "metadata": {}
        }
      ]
    },
    {
      "cell_type": "code",
      "metadata": {
        "colab": {
          "base_uri": "https://localhost:8080/",
          "height": 529
        },
        "id": "svXAurVsMHza",
        "outputId": "df042039-c2b4-465f-bf0b-38327a1036e6"
      },
      "source": [
        "cv2_imshow(m_depth_segment_dict['0101'])"
      ],
      "execution_count": 13,
      "outputs": [
        {
          "output_type": "display_data",
          "data": {
            "image/png": "[encoded data removed]",
            "text/plain": [
              "<PIL.Image.Image image mode=RGB size=512x512 at 0x7F66C6455C50>"
            ]
          },
          "metadata": {}
        }
      ]
    },
    {
      "cell_type": "code",
      "metadata": {
        "colab": {
          "base_uri": "https://localhost:8080/"
        },
        "id": "dnq7nweRMUlv",
        "outputId": "2241a0f5-741b-4b8d-fb73-6e5b24043c76"
      },
      "source": [
        "m_segment_dict['0101'].swapaxes(0,2).shape"
      ],
      "execution_count": 14,
      "outputs": [
        {
          "output_type": "execute_result",
          "data": {
            "text/plain": [
              "(3, 512, 512)"
            ]
          },
          "metadata": {},
          "execution_count": 14
        }
      ]
    },
    {
      "cell_type": "code",
      "metadata": {
        "id": "x_xeHXAKbvVi"
      },
      "source": [
        "import torch\n",
        "torch.manual_seed(2)\n",
        "data_transforms = transforms.Compose([transforms.ToPILImage(),\n",
        "                                      transforms.RandomRotation(degrees=(0,360)),\n",
        "                                      transforms.Resize((64, 64)),\n",
        "                                      transforms.ToTensor(),\n",
        "\t\t                                  transforms.Normalize(mean=[0.485, 0.456, 0.406],\n",
        "                                      std=[0.229, 0.224, 0.225])])\n",
        "\n",
        "img = torch.from_numpy(m_segment_dict['0101'].swapaxes(0,2))\n",
        "op = data_transforms(img)"
      ],
      "execution_count": 34,
      "outputs": []
    },
    {
      "cell_type": "code",
      "metadata": {
        "id": "yeTmL9bbq00j"
      },
      "source": [
        "# Pipeline for each RGB image\n"
      ],
      "execution_count": 28,
      "outputs": []
    },
    {
      "cell_type": "code",
      "metadata": {
        "colab": {
          "base_uri": "https://localhost:8080/"
        },
        "id": "vRShByr2lEmI",
        "outputId": "81612c74-91ce-46f1-ce9f-7c6d1155a989"
      },
      "source": [
        "img = torch.from_numpy(m_segment_dict['0101'].swapaxes(0,2)).float()\n",
        "#data_transforms(img)\n",
        "print(type(img))"
      ],
      "execution_count": 29,
      "outputs": [
        {
          "output_type": "stream",
          "name": "stdout",
          "text": [
            "<class 'torch.Tensor'>\n"
          ]
        }
      ]
    },
    {
      "cell_type": "code",
      "metadata": {
        "id": "5E6ENjPgNo8r"
      },
      "source": [
        "op = data_transforms(img)"
      ],
      "execution_count": 30,
      "outputs": []
    },
    {
      "cell_type": "code",
      "metadata": {
        "colab": {
          "base_uri": "https://localhost:8080/",
          "height": 285
        },
        "id": "8OsXb4stcVR1",
        "outputId": "d28f3995-dd3c-4667-d950-4d1a1d573f95"
      },
      "source": [
        "def show(img):\n",
        "    npimg = img.numpy()\n",
        "   # plt.imshow(np.transpose(npimg, (1,2,0)), interpolation='nearest')\n",
        "    plt.imshow(npimg.swapaxes(0,2))\n",
        "show(op)"
      ],
      "execution_count": 38,
      "outputs": [
        {
          "output_type": "stream",
          "name": "stderr",
          "text": [
            "Clipping input data to the valid range for imshow with RGB data ([0..1] for floats or [0..255] for integers).\n"
          ]
        },
        {
          "output_type": "display_data",
          "data": {
            "image/png": "[encoded data removed]",
            "text/plain": [
              "<Figure size 432x288 with 1 Axes>"
            ]
          },
          "metadata": {
            "needs_background": "light"
          }
        }
      ]
    },
    {
      "cell_type": "code",
      "metadata": {
        "colab": {
          "base_uri": "https://localhost:8080/",
          "height": 81
        },
        "id": "t68nVwVST2Ka",
        "outputId": "42a32616-296f-44c0-89ce-82ddc19ce2fa"
      },
      "source": [
        "temp = np.array(op)\n",
        "cv2_imshow(temp.swapaxes(0,2))"
      ],
      "execution_count": 113,
      "outputs": [
        {
          "output_type": "display_data",
          "data": {
            "image/png": "[encoded data removed]",
            "text/plain": [
              "<PIL.Image.Image image mode=RGB size=64x64 at 0x7F51A5E69D90>"
            ]
          },
          "metadata": {}
        }
      ]
    },
    {
      "cell_type": "code",
      "metadata": {
        "id": "C-yE8_iyOAfz"
      },
      "source": [
        "data_transforms(img)"
      ],
      "execution_count": null,
      "outputs": []
    },
    {
      "cell_type": "code",
      "metadata": {
        "colab": {
          "base_uri": "https://localhost:8080/",
          "height": 321
        },
        "id": "lzOreKjnjpTJ",
        "outputId": "0467bf26-fefb-477c-992e-3486ff588be1"
      },
      "source": [
        "from kymatio.numpy import Scattering2D\n",
        "\n",
        "S = Scattering2D(J=2, shape=(32, 32))\n",
        "res = S.scattering()"
      ],
      "execution_count": 30,
      "outputs": [
        {
          "output_type": "error",
          "ename": "TypeError",
          "evalue": "ignored",
          "traceback": [
            "\u001b[0;31m---------------------------------------------------------------------------\u001b[0m",
            "\u001b[0;31mTypeError\u001b[0m                                 Traceback (most recent call last)",
            "\u001b[0;32m<ipython-input-30-c2ac1f87cc88>\u001b[0m in \u001b[0;36m<module>\u001b[0;34m()\u001b[0m\n\u001b[1;32m      2\u001b[0m \u001b[0;34m\u001b[0m\u001b[0m\n\u001b[1;32m      3\u001b[0m \u001b[0mS\u001b[0m \u001b[0;34m=\u001b[0m \u001b[0mScattering2D\u001b[0m\u001b[0;34m(\u001b[0m\u001b[0mJ\u001b[0m\u001b[0;34m=\u001b[0m\u001b[0;36m2\u001b[0m\u001b[0;34m,\u001b[0m \u001b[0mshape\u001b[0m\u001b[0;34m=\u001b[0m\u001b[0;34m(\u001b[0m\u001b[0;36m32\u001b[0m\u001b[0;34m,\u001b[0m \u001b[0;36m32\u001b[0m\u001b[0;34m)\u001b[0m\u001b[0;34m)\u001b[0m\u001b[0;34m\u001b[0m\u001b[0;34m\u001b[0m\u001b[0m\n\u001b[0;32m----> 4\u001b[0;31m \u001b[0mres\u001b[0m \u001b[0;34m=\u001b[0m \u001b[0mS\u001b[0m\u001b[0;34m.\u001b[0m\u001b[0mscattering\u001b[0m\u001b[0;34m(\u001b[0m\u001b[0mdata_transforms\u001b[0m\u001b[0;34m(\u001b[0m\u001b[0mimg\u001b[0m\u001b[0;34m)\u001b[0m\u001b[0;34m)\u001b[0m\u001b[0;34m\u001b[0m\u001b[0;34m\u001b[0m\u001b[0m\n\u001b[0m",
            "\u001b[0;32m/usr/local/lib/python3.7/dist-packages/kymatio/scattering2d/frontend/numpy_frontend.py\u001b[0m in \u001b[0;36mscattering\u001b[0;34m(self, input)\u001b[0m\n\u001b[1;32m     16\u001b[0m     \u001b[0;32mdef\u001b[0m \u001b[0mscattering\u001b[0m\u001b[0;34m(\u001b[0m\u001b[0mself\u001b[0m\u001b[0;34m,\u001b[0m \u001b[0minput\u001b[0m\u001b[0;34m)\u001b[0m\u001b[0;34m:\u001b[0m\u001b[0;34m\u001b[0m\u001b[0;34m\u001b[0m\u001b[0m\n\u001b[1;32m     17\u001b[0m         \u001b[0;32mif\u001b[0m \u001b[0;32mnot\u001b[0m \u001b[0mtype\u001b[0m\u001b[0;34m(\u001b[0m\u001b[0minput\u001b[0m\u001b[0;34m)\u001b[0m \u001b[0;32mis\u001b[0m \u001b[0mnp\u001b[0m\u001b[0;34m.\u001b[0m\u001b[0mndarray\u001b[0m\u001b[0;34m:\u001b[0m\u001b[0;34m\u001b[0m\u001b[0;34m\u001b[0m\u001b[0m\n\u001b[0;32m---> 18\u001b[0;31m             \u001b[0;32mraise\u001b[0m \u001b[0mTypeError\u001b[0m\u001b[0;34m(\u001b[0m\u001b[0;34m'The input should be a NumPy array.'\u001b[0m\u001b[0;34m)\u001b[0m\u001b[0;34m\u001b[0m\u001b[0;34m\u001b[0m\u001b[0m\n\u001b[0m\u001b[1;32m     19\u001b[0m \u001b[0;34m\u001b[0m\u001b[0m\n\u001b[1;32m     20\u001b[0m         \u001b[0;32mif\u001b[0m \u001b[0mlen\u001b[0m\u001b[0;34m(\u001b[0m\u001b[0minput\u001b[0m\u001b[0;34m.\u001b[0m\u001b[0mshape\u001b[0m\u001b[0;34m)\u001b[0m \u001b[0;34m<\u001b[0m \u001b[0;36m2\u001b[0m\u001b[0;34m:\u001b[0m\u001b[0;34m\u001b[0m\u001b[0;34m\u001b[0m\u001b[0m\n",
            "\u001b[0;31mTypeError\u001b[0m: The input should be a NumPy array."
          ]
        }
      ]
    },
    {
      "cell_type": "code",
      "metadata": {
        "colab": {
          "base_uri": "https://localhost:8080/"
        },
        "id": "3d7rt7tRgk34",
        "outputId": "5a30232f-914c-40c7-9bd1-346643b184a2"
      },
      "source": [
        "def load_data(data_folder, batch_size, train, kwargs):\n",
        "    transform = {\n",
        "        'train': transforms.Compose(\n",
        "            [transforms.Resize([256, 256]),\n",
        "                transforms.RandomCrop(224),\n",
        "                transforms.RandomHorizontalFlip(),\n",
        "                transforms.ToTensor(),\n",
        "                transforms.Normalize(mean=[0.485, 0.456, 0.406],\n",
        "                                  std=[0.229, 0.224, 0.225])]),\n",
        "        'test': transforms.Compose(\n",
        "            [transforms.Resize([224, 224]),\n",
        "                transforms.ToTensor(),\n",
        "                transforms.Normalize(mean=[0.485, 0.456, 0.406],\n",
        "                                  std=[0.229, 0.224, 0.225])])\n",
        "        }\n",
        "    data = datasets.ImageFolder(root = data_folder, transform=transform['train' if train else 'test'])\n",
        "    data_loader = torch.utils.data.DataLoader(data, batch_size=batch_size, shuffle=True, **kwargs, drop_last = True if train else False)\n",
        "    return data_loader "
      ],
      "execution_count": 28,
      "outputs": [
        {
          "output_type": "execute_result",
          "data": {
            "text/plain": [
              "Compose(\n",
              "    ToPILImage()\n",
              "    RandomRotation(degrees=[-180.0, 180.0], interpolation=nearest, expand=False, fill=(0,))\n",
              "    Resize(size=(64, 64), interpolation=bilinear, max_size=None, antialias=None)\n",
              "    ToTensor()\n",
              "    Normalize(mean=[0.485, 0.456, 0.406], std=[0.229, 0.224, 0.225])\n",
              ")"
            ]
          },
          "metadata": {},
          "execution_count": 28
        }
      ]
    },
    {
      "cell_type": "code",
      "metadata": {
        "id": "TQbnTiY-iD9g"
      },
      "source": [
        "def load_data(data_folder, batch_size, train, kwargs):\n",
        "    data_transforms = transforms.Compose([transforms.ToPILImage(),\n",
        "    transforms.RandomRotation(degrees=(-180, 180), fill=(0,)),\n",
        "\t\ttransforms.Resize((64, 64)),\n",
        "\t\ttransforms.Normalize(mean=[0.485, 0.456, 0.406],std=[0.229, 0.224, 0.225])])\n",
        "\n",
        "    data = datasets.ImageFolder(root = data_folder, transform=transform['train' if train else 'test'])\n",
        "    data_loader = torch.utils.data.DataLoader(data, batch_size=batch_size, shuffle=True, **kwargs, drop_last = True if train else False)\n",
        "    return data_loader "
      ],
      "execution_count": null,
      "outputs": []
    },
    {
      "cell_type": "code",
      "metadata": {
        "id": "RZP-vfNsbQjF",
        "colab": {
          "base_uri": "https://localhost:8080/",
          "height": 529
        },
        "outputId": "edfd7de1-cdb2-4c90-af11-702691a76b88"
      },
      "source": [
        "cv2_imshow(m_lst[0][0])"
      ],
      "execution_count": 12,
      "outputs": [
        {
          "output_type": "display_data",
          "data": {
            "image/png": "[encoded data removed]",
            "text/plain": [
              "<PIL.Image.Image image mode=RGB size=512x512 at 0x7F97ACF9E890>"
            ]
          },
          "metadata": {}
        }
      ]
    },
    {
      "cell_type": "code",
      "metadata": {
        "colab": {
          "base_uri": "https://localhost:8080/"
        },
        "id": "NyRc1pxv-B_c",
        "outputId": "b207afd2-3f79-482e-ec1a-19298819fca3"
      },
      "source": [
        "! pip install kymatio"
      ],
      "execution_count": null,
      "outputs": [
        {
          "output_type": "stream",
          "name": "stdout",
          "text": [
            "Collecting kymatio\n",
            "  Downloading kymatio-0.2.1-py3-none-any.whl (93 kB)\n",
            "\u001b[?25l\r\u001b[K     |███▌                            | 10 kB 21.2 MB/s eta 0:00:01\r\u001b[K     |███████                         | 20 kB 26.6 MB/s eta 0:00:01\r\u001b[K     |██████████▌                     | 30 kB 30.6 MB/s eta 0:00:01\r\u001b[K     |██████████████                  | 40 kB 32.1 MB/s eta 0:00:01\r\u001b[K     |█████████████████▋              | 51 kB 24.7 MB/s eta 0:00:01\r\u001b[K     |█████████████████████           | 61 kB 25.3 MB/s eta 0:00:01\r\u001b[K     |████████████████████████▋       | 71 kB 23.4 MB/s eta 0:00:01\r\u001b[K     |████████████████████████████▏   | 81 kB 25.1 MB/s eta 0:00:01\r\u001b[K     |███████████████████████████████▋| 92 kB 15.4 MB/s eta 0:00:01\r\u001b[K     |████████████████████████████████| 93 kB 1.2 MB/s \n",
            "\u001b[?25hRequirement already satisfied: packaging in /usr/local/lib/python3.7/dist-packages (from kymatio) (21.3)\n",
            "Requirement already satisfied: scipy in /usr/local/lib/python3.7/dist-packages (from kymatio) (1.4.1)\n",
            "Requirement already satisfied: appdirs in /usr/local/lib/python3.7/dist-packages (from kymatio) (1.4.4)\n",
            "Collecting configparser\n",
            "  Downloading configparser-5.1.0-py3-none-any.whl (19 kB)\n",
            "Requirement already satisfied: numpy in /usr/local/lib/python3.7/dist-packages (from kymatio) (1.19.5)\n",
            "Requirement already satisfied: pyparsing!=3.0.5,>=2.0.2 in /usr/local/lib/python3.7/dist-packages (from packaging->kymatio) (3.0.6)\n",
            "Installing collected packages: configparser, kymatio\n",
            "Successfully installed configparser-5.1.0 kymatio-0.2.1\n"
          ]
        }
      ]
    },
    {
      "cell_type": "code",
      "metadata": {
        "colab": {
          "base_uri": "https://localhost:8080/"
        },
        "id": "g8hNS_9ZC5Q6",
        "outputId": "840580eb-780a-4d76-8c90-723f78165e72"
      },
      "source": [
        "img = cv2.resize(m_lst[1][0],(32,32))\n",
        "r,g,b = cv2.split(img)\n",
        "r.shape"
      ],
      "execution_count": null,
      "outputs": [
        {
          "output_type": "execute_result",
          "data": {
            "text/plain": [
              "(32, 32)"
            ]
          },
          "metadata": {},
          "execution_count": 33
        }
      ]
    },
    {
      "cell_type": "code",
      "metadata": {
        "id": "I7aCxwWA9jCt"
      },
      "source": [
        "from kymatio.numpy import Scattering2D\n",
        "\n",
        "S = Scattering2D(J=2, shape=(32, 32))\n",
        "res = S.scattering(r)"
      ],
      "execution_count": null,
      "outputs": []
    },
    {
      "cell_type": "code",
      "metadata": {
        "id": "OmzQE_Lz-VqL"
      },
      "source": [
        ""
      ],
      "execution_count": null,
      "outputs": []
    },
    {
      "cell_type": "code",
      "metadata": {
        "colab": {
          "base_uri": "https://localhost:8080/"
        },
        "id": "JSsDCjv6-G27",
        "outputId": "71bf8b62-db84-4d12-d3b2-7dfaa2a400bc"
      },
      "source": [
        "res.shape "
      ],
      "execution_count": null,
      "outputs": [
        {
          "output_type": "execute_result",
          "data": {
            "text/plain": [
              "(81, 8, 8)"
            ]
          },
          "metadata": {},
          "execution_count": 41
        }
      ]
    },
    {
      "cell_type": "code",
      "metadata": {
        "colab": {
          "base_uri": "https://localhost:8080/",
          "height": 529
        },
        "id": "lxAVNUrceciW",
        "outputId": "9fd2aeb0-8ee9-4faa-abc8-8604e5df035b"
      },
      "source": [
        "cv2_imshow(m_lst[1][0])"
      ],
      "execution_count": null,
      "outputs": [
        {
          "output_type": "display_data",
          "data": {
            "image/png": "[encoded data removed]",
            "text/plain": [
              "<PIL.Image.Image image mode=RGB size=512x512 at 0x7F81A8C59990>"
            ]
          },
          "metadata": {}
        }
      ]
    },
    {
      "cell_type": "code",
      "metadata": {
        "colab": {
          "base_uri": "https://localhost:8080/"
        },
        "id": "0jMXkynsghnT",
        "outputId": "983ef400-1361-46c3-dcb9-559f90dcd618"
      },
      "source": [
        "pywt.scale2frequency('morl', 3)"
      ],
      "execution_count": null,
      "outputs": [
        {
          "output_type": "execute_result",
          "data": {
            "text/plain": [
              "0.2708333333333333"
            ]
          },
          "metadata": {},
          "execution_count": 145
        }
      ]
    },
    {
      "cell_type": "code",
      "metadata": {
        "colab": {
          "base_uri": "https://localhost:8080/",
          "height": 279
        },
        "id": "z3qIDQ3ZfRaE",
        "outputId": "83cb25a8-bf80-4f2c-c6c2-455bbdd343ca"
      },
      "source": [
        "import numpy as np\n",
        "import matplotlib.pyplot as plt\n",
        "\n",
        "import pywt\n",
        "import pywt.data\n",
        "\n",
        "original = m_lst[1][0]\n",
        "coeffs2,_ = pywt.cwt(original,scales=np.arange(1,4),wavelet='morl',method='fft',axis=1)\n",
        "fig = plt.figure(figsize=(12, 3))\n",
        "for i in range(2):\n",
        "    ax = fig.add_subplot(1, 2, i + 1)\n",
        "    ax.imshow(coeffs2[i])\n",
        "    ax.set_xticks([])\n",
        "    ax.set_yticks([])\n",
        "\n",
        "fig.tight_layout()\n",
        "plt.show()"
      ],
      "execution_count": null,
      "outputs": [
        {
          "output_type": "stream",
          "name": "stderr",
          "text": [
            "Clipping input data to the valid range for imshow with RGB data ([0..1] for floats or [0..255] for integers).\n",
            "Clipping input data to the valid range for imshow with RGB data ([0..1] for floats or [0..255] for integers).\n"
          ]
        },
        {
          "output_type": "display_data",
          "data": {
            "image/png": "[encoded data removed]",
            "text/plain": [
              "<Figure size 864x216 with 2 Axes>"
            ]
          },
          "metadata": {}
        }
      ]
    },
    {
      "cell_type": "code",
      "metadata": {
        "colab": {
          "base_uri": "https://localhost:8080/"
        },
        "id": "FIKKlvlKSUzE",
        "outputId": "b2765a6d-937c-4dd1-b4f2-b38ed7d548d0"
      },
      "source": [
        "m_l"
      ],
      "execution_count": null,
      "outputs": [
        {
          "output_type": "execute_result",
          "data": {
            "text/plain": [
              "(3, 512, 512, 3)"
            ]
          },
          "metadata": {},
          "execution_count": 136
        }
      ]
    },
    {
      "cell_type": "code",
      "metadata": {
        "colab": {
          "base_uri": "https://localhost:8080/"
        },
        "id": "NMRyH55fYzRY",
        "outputId": "c2d6caaf-6309-4116-89f4-f0217b8e635b"
      },
      "source": [
        "m_lst[0][0].shape"
      ],
      "execution_count": null,
      "outputs": [
        {
          "output_type": "execute_result",
          "data": {
            "text/plain": [
              "(512, 512, 3)"
            ]
          },
          "metadata": {},
          "execution_count": 122
        }
      ]
    },
    {
      "cell_type": "code",
      "metadata": {
        "colab": {
          "base_uri": "https://localhost:8080/",
          "height": 164
        },
        "id": "1ZuAft_pXyUT",
        "outputId": "0201c0a6-6c1c-40a2-9078-2cf2337c8a61"
      },
      "source": [
        "cv2_imshow(coeffs[4][0])"
      ],
      "execution_count": null,
      "outputs": [
        {
          "output_type": "error",
          "ename": "IndexError",
          "evalue": "ignored",
          "traceback": [
            "\u001b[0;31m---------------------------------------------------------------------------\u001b[0m",
            "\u001b[0;31mIndexError\u001b[0m                                Traceback (most recent call last)",
            "\u001b[0;32m<ipython-input-84-a219a1ee6f12>\u001b[0m in \u001b[0;36m<module>\u001b[0;34m()\u001b[0m\n\u001b[0;32m----> 1\u001b[0;31m \u001b[0mcv2_imshow\u001b[0m\u001b[0;34m(\u001b[0m\u001b[0mcoeffs\u001b[0m\u001b[0;34m[\u001b[0m\u001b[0;36m4\u001b[0m\u001b[0;34m]\u001b[0m\u001b[0;34m[\u001b[0m\u001b[0;36m0\u001b[0m\u001b[0;34m]\u001b[0m\u001b[0;34m)\u001b[0m\u001b[0;34m\u001b[0m\u001b[0;34m\u001b[0m\u001b[0m\n\u001b[0m",
            "\u001b[0;31mIndexError\u001b[0m: tuple index out of range"
          ]
        }
      ]
    },
    {
      "cell_type": "code",
      "metadata": {
        "colab": {
          "base_uri": "https://localhost:8080/",
          "height": 505
        },
        "id": "-Wbue97kfSoj",
        "outputId": "82e88862-1ea8-457a-e51c-985afe2ca70f"
      },
      "source": [
        "import pywt\n",
        "import numpy as np\n",
        "import matplotlib.pyplot as plt\n",
        "x = np.arange(512)\n",
        "y = np.sin(2*np.pi*x/32)\n",
        "coef, freqs=pywt.cwt(y,np.arange(1,129),'gaus1')\n",
        "plt.matshow(res[0][:]) # doctest: +SKIP\n",
        "plt.show() # doctest: +SKIP\n"
      ],
      "execution_count": null,
      "outputs": [
        {
          "output_type": "error",
          "ename": "TypeError",
          "evalue": "ignored",
          "traceback": [
            "\u001b[0;31m---------------------------------------------------------------------------\u001b[0m",
            "\u001b[0;31mTypeError\u001b[0m                                 Traceback (most recent call last)",
            "\u001b[0;32m<ipython-input-31-f5557a0b75ed>\u001b[0m in \u001b[0;36m<module>\u001b[0;34m()\u001b[0m\n\u001b[1;32m      5\u001b[0m \u001b[0my\u001b[0m \u001b[0;34m=\u001b[0m \u001b[0mnp\u001b[0m\u001b[0;34m.\u001b[0m\u001b[0msin\u001b[0m\u001b[0;34m(\u001b[0m\u001b[0;36m2\u001b[0m\u001b[0;34m*\u001b[0m\u001b[0mnp\u001b[0m\u001b[0;34m.\u001b[0m\u001b[0mpi\u001b[0m\u001b[0;34m*\u001b[0m\u001b[0mx\u001b[0m\u001b[0;34m/\u001b[0m\u001b[0;36m32\u001b[0m\u001b[0;34m)\u001b[0m\u001b[0;34m\u001b[0m\u001b[0;34m\u001b[0m\u001b[0m\n\u001b[1;32m      6\u001b[0m \u001b[0mcoef\u001b[0m\u001b[0;34m,\u001b[0m \u001b[0mfreqs\u001b[0m\u001b[0;34m=\u001b[0m\u001b[0mpywt\u001b[0m\u001b[0;34m.\u001b[0m\u001b[0mcwt\u001b[0m\u001b[0;34m(\u001b[0m\u001b[0my\u001b[0m\u001b[0;34m,\u001b[0m\u001b[0mnp\u001b[0m\u001b[0;34m.\u001b[0m\u001b[0marange\u001b[0m\u001b[0;34m(\u001b[0m\u001b[0;36m1\u001b[0m\u001b[0;34m,\u001b[0m\u001b[0;36m129\u001b[0m\u001b[0;34m)\u001b[0m\u001b[0;34m,\u001b[0m\u001b[0;34m'gaus1'\u001b[0m\u001b[0;34m)\u001b[0m\u001b[0;34m\u001b[0m\u001b[0;34m\u001b[0m\u001b[0m\n\u001b[0;32m----> 7\u001b[0;31m \u001b[0mplt\u001b[0m\u001b[0;34m.\u001b[0m\u001b[0mmatshow\u001b[0m\u001b[0;34m(\u001b[0m\u001b[0mres\u001b[0m\u001b[0;34m[\u001b[0m\u001b[0;36m0\u001b[0m\u001b[0;34m]\u001b[0m\u001b[0;34m[\u001b[0m\u001b[0;34m:\u001b[0m\u001b[0;34m]\u001b[0m\u001b[0;34m)\u001b[0m \u001b[0;31m# doctest: +SKIP\u001b[0m\u001b[0;34m\u001b[0m\u001b[0;34m\u001b[0m\u001b[0m\n\u001b[0m\u001b[1;32m      8\u001b[0m \u001b[0mplt\u001b[0m\u001b[0;34m.\u001b[0m\u001b[0mshow\u001b[0m\u001b[0;34m(\u001b[0m\u001b[0;34m)\u001b[0m \u001b[0;31m# doctest: +SKIP\u001b[0m\u001b[0;34m\u001b[0m\u001b[0;34m\u001b[0m\u001b[0m\n",
            "\u001b[0;32m/usr/local/lib/python3.7/dist-packages/matplotlib/pyplot.py\u001b[0m in \u001b[0;36mmatshow\u001b[0;34m(A, fignum, **kwargs)\u001b[0m\n\u001b[1;32m   2114\u001b[0m         \u001b[0mfig\u001b[0m \u001b[0;34m=\u001b[0m \u001b[0mfigure\u001b[0m\u001b[0;34m(\u001b[0m\u001b[0mfignum\u001b[0m\u001b[0;34m,\u001b[0m \u001b[0mfigsize\u001b[0m\u001b[0;34m=\u001b[0m\u001b[0mfigaspect\u001b[0m\u001b[0;34m(\u001b[0m\u001b[0mA\u001b[0m\u001b[0;34m)\u001b[0m\u001b[0;34m)\u001b[0m\u001b[0;34m\u001b[0m\u001b[0;34m\u001b[0m\u001b[0m\n\u001b[1;32m   2115\u001b[0m         \u001b[0max\u001b[0m \u001b[0;34m=\u001b[0m \u001b[0mfig\u001b[0m\u001b[0;34m.\u001b[0m\u001b[0madd_axes\u001b[0m\u001b[0;34m(\u001b[0m\u001b[0;34m[\u001b[0m\u001b[0;36m0.15\u001b[0m\u001b[0;34m,\u001b[0m \u001b[0;36m0.09\u001b[0m\u001b[0;34m,\u001b[0m \u001b[0;36m0.775\u001b[0m\u001b[0;34m,\u001b[0m \u001b[0;36m0.775\u001b[0m\u001b[0;34m]\u001b[0m\u001b[0;34m)\u001b[0m\u001b[0;34m\u001b[0m\u001b[0;34m\u001b[0m\u001b[0m\n\u001b[0;32m-> 2116\u001b[0;31m     \u001b[0mim\u001b[0m \u001b[0;34m=\u001b[0m \u001b[0max\u001b[0m\u001b[0;34m.\u001b[0m\u001b[0mmatshow\u001b[0m\u001b[0;34m(\u001b[0m\u001b[0mA\u001b[0m\u001b[0;34m,\u001b[0m \u001b[0;34m**\u001b[0m\u001b[0mkwargs\u001b[0m\u001b[0;34m)\u001b[0m\u001b[0;34m\u001b[0m\u001b[0;34m\u001b[0m\u001b[0m\n\u001b[0m\u001b[1;32m   2117\u001b[0m     \u001b[0msci\u001b[0m\u001b[0;34m(\u001b[0m\u001b[0mim\u001b[0m\u001b[0;34m)\u001b[0m\u001b[0;34m\u001b[0m\u001b[0;34m\u001b[0m\u001b[0m\n\u001b[1;32m   2118\u001b[0m     \u001b[0;32mreturn\u001b[0m \u001b[0mim\u001b[0m\u001b[0;34m\u001b[0m\u001b[0;34m\u001b[0m\u001b[0m\n",
            "\u001b[0;32m/usr/local/lib/python3.7/dist-packages/matplotlib/axes/_axes.py\u001b[0m in \u001b[0;36mmatshow\u001b[0;34m(self, Z, **kwargs)\u001b[0m\n\u001b[1;32m   7789\u001b[0m               \u001b[0;34m'aspect'\u001b[0m\u001b[0;34m:\u001b[0m \u001b[0;34m'equal'\u001b[0m\u001b[0;34m,\u001b[0m          \u001b[0;31m# (already the imshow default)\u001b[0m\u001b[0;34m\u001b[0m\u001b[0;34m\u001b[0m\u001b[0m\n\u001b[1;32m   7790\u001b[0m               **kwargs}\n\u001b[0;32m-> 7791\u001b[0;31m         \u001b[0mim\u001b[0m \u001b[0;34m=\u001b[0m \u001b[0mself\u001b[0m\u001b[0;34m.\u001b[0m\u001b[0mimshow\u001b[0m\u001b[0;34m(\u001b[0m\u001b[0mZ\u001b[0m\u001b[0;34m,\u001b[0m \u001b[0;34m**\u001b[0m\u001b[0mkw\u001b[0m\u001b[0;34m)\u001b[0m\u001b[0;34m\u001b[0m\u001b[0;34m\u001b[0m\u001b[0m\n\u001b[0m\u001b[1;32m   7792\u001b[0m         \u001b[0mself\u001b[0m\u001b[0;34m.\u001b[0m\u001b[0mtitle\u001b[0m\u001b[0;34m.\u001b[0m\u001b[0mset_y\u001b[0m\u001b[0;34m(\u001b[0m\u001b[0;36m1.05\u001b[0m\u001b[0;34m)\u001b[0m\u001b[0;34m\u001b[0m\u001b[0;34m\u001b[0m\u001b[0m\n\u001b[1;32m   7793\u001b[0m         \u001b[0mself\u001b[0m\u001b[0;34m.\u001b[0m\u001b[0mxaxis\u001b[0m\u001b[0;34m.\u001b[0m\u001b[0mtick_top\u001b[0m\u001b[0;34m(\u001b[0m\u001b[0;34m)\u001b[0m\u001b[0;34m\u001b[0m\u001b[0;34m\u001b[0m\u001b[0m\n",
            "\u001b[0;32m/usr/local/lib/python3.7/dist-packages/matplotlib/__init__.py\u001b[0m in \u001b[0;36minner\u001b[0;34m(ax, data, *args, **kwargs)\u001b[0m\n\u001b[1;32m   1563\u001b[0m     \u001b[0;32mdef\u001b[0m \u001b[0minner\u001b[0m\u001b[0;34m(\u001b[0m\u001b[0max\u001b[0m\u001b[0;34m,\u001b[0m \u001b[0;34m*\u001b[0m\u001b[0margs\u001b[0m\u001b[0;34m,\u001b[0m \u001b[0mdata\u001b[0m\u001b[0;34m=\u001b[0m\u001b[0;32mNone\u001b[0m\u001b[0;34m,\u001b[0m \u001b[0;34m**\u001b[0m\u001b[0mkwargs\u001b[0m\u001b[0;34m)\u001b[0m\u001b[0;34m:\u001b[0m\u001b[0;34m\u001b[0m\u001b[0;34m\u001b[0m\u001b[0m\n\u001b[1;32m   1564\u001b[0m         \u001b[0;32mif\u001b[0m \u001b[0mdata\u001b[0m \u001b[0;32mis\u001b[0m \u001b[0;32mNone\u001b[0m\u001b[0;34m:\u001b[0m\u001b[0;34m\u001b[0m\u001b[0;34m\u001b[0m\u001b[0m\n\u001b[0;32m-> 1565\u001b[0;31m             \u001b[0;32mreturn\u001b[0m \u001b[0mfunc\u001b[0m\u001b[0;34m(\u001b[0m\u001b[0max\u001b[0m\u001b[0;34m,\u001b[0m \u001b[0;34m*\u001b[0m\u001b[0mmap\u001b[0m\u001b[0;34m(\u001b[0m\u001b[0msanitize_sequence\u001b[0m\u001b[0;34m,\u001b[0m \u001b[0margs\u001b[0m\u001b[0;34m)\u001b[0m\u001b[0;34m,\u001b[0m \u001b[0;34m**\u001b[0m\u001b[0mkwargs\u001b[0m\u001b[0;34m)\u001b[0m\u001b[0;34m\u001b[0m\u001b[0;34m\u001b[0m\u001b[0m\n\u001b[0m\u001b[1;32m   1566\u001b[0m \u001b[0;34m\u001b[0m\u001b[0m\n\u001b[1;32m   1567\u001b[0m         \u001b[0mbound\u001b[0m \u001b[0;34m=\u001b[0m \u001b[0mnew_sig\u001b[0m\u001b[0;34m.\u001b[0m\u001b[0mbind\u001b[0m\u001b[0;34m(\u001b[0m\u001b[0max\u001b[0m\u001b[0;34m,\u001b[0m \u001b[0;34m*\u001b[0m\u001b[0margs\u001b[0m\u001b[0;34m,\u001b[0m \u001b[0;34m**\u001b[0m\u001b[0mkwargs\u001b[0m\u001b[0;34m)\u001b[0m\u001b[0;34m\u001b[0m\u001b[0;34m\u001b[0m\u001b[0m\n",
            "\u001b[0;32m/usr/local/lib/python3.7/dist-packages/matplotlib/cbook/deprecation.py\u001b[0m in \u001b[0;36mwrapper\u001b[0;34m(*args, **kwargs)\u001b[0m\n\u001b[1;32m    356\u001b[0m                 \u001b[0;34mf\"%(removal)s.  If any parameter follows {name!r}, they \"\u001b[0m\u001b[0;34m\u001b[0m\u001b[0;34m\u001b[0m\u001b[0m\n\u001b[1;32m    357\u001b[0m                 f\"should be pass as keyword, not positionally.\")\n\u001b[0;32m--> 358\u001b[0;31m         \u001b[0;32mreturn\u001b[0m \u001b[0mfunc\u001b[0m\u001b[0;34m(\u001b[0m\u001b[0;34m*\u001b[0m\u001b[0margs\u001b[0m\u001b[0;34m,\u001b[0m \u001b[0;34m**\u001b[0m\u001b[0mkwargs\u001b[0m\u001b[0;34m)\u001b[0m\u001b[0;34m\u001b[0m\u001b[0;34m\u001b[0m\u001b[0m\n\u001b[0m\u001b[1;32m    359\u001b[0m \u001b[0;34m\u001b[0m\u001b[0m\n\u001b[1;32m    360\u001b[0m     \u001b[0;32mreturn\u001b[0m \u001b[0mwrapper\u001b[0m\u001b[0;34m\u001b[0m\u001b[0;34m\u001b[0m\u001b[0m\n",
            "\u001b[0;32m/usr/local/lib/python3.7/dist-packages/matplotlib/cbook/deprecation.py\u001b[0m in \u001b[0;36mwrapper\u001b[0;34m(*args, **kwargs)\u001b[0m\n\u001b[1;32m    356\u001b[0m                 \u001b[0;34mf\"%(removal)s.  If any parameter follows {name!r}, they \"\u001b[0m\u001b[0;34m\u001b[0m\u001b[0;34m\u001b[0m\u001b[0m\n\u001b[1;32m    357\u001b[0m                 f\"should be pass as keyword, not positionally.\")\n\u001b[0;32m--> 358\u001b[0;31m         \u001b[0;32mreturn\u001b[0m \u001b[0mfunc\u001b[0m\u001b[0;34m(\u001b[0m\u001b[0;34m*\u001b[0m\u001b[0margs\u001b[0m\u001b[0;34m,\u001b[0m \u001b[0;34m**\u001b[0m\u001b[0mkwargs\u001b[0m\u001b[0;34m)\u001b[0m\u001b[0;34m\u001b[0m\u001b[0;34m\u001b[0m\u001b[0m\n\u001b[0m\u001b[1;32m    359\u001b[0m \u001b[0;34m\u001b[0m\u001b[0m\n\u001b[1;32m    360\u001b[0m     \u001b[0;32mreturn\u001b[0m \u001b[0mwrapper\u001b[0m\u001b[0;34m\u001b[0m\u001b[0;34m\u001b[0m\u001b[0m\n",
            "\u001b[0;32m/usr/local/lib/python3.7/dist-packages/matplotlib/axes/_axes.py\u001b[0m in \u001b[0;36mimshow\u001b[0;34m(self, X, cmap, norm, aspect, interpolation, alpha, vmin, vmax, origin, extent, shape, filternorm, filterrad, imlim, resample, url, **kwargs)\u001b[0m\n\u001b[1;32m   5624\u001b[0m                               resample=resample, **kwargs)\n\u001b[1;32m   5625\u001b[0m \u001b[0;34m\u001b[0m\u001b[0m\n\u001b[0;32m-> 5626\u001b[0;31m         \u001b[0mim\u001b[0m\u001b[0;34m.\u001b[0m\u001b[0mset_data\u001b[0m\u001b[0;34m(\u001b[0m\u001b[0mX\u001b[0m\u001b[0;34m)\u001b[0m\u001b[0;34m\u001b[0m\u001b[0;34m\u001b[0m\u001b[0m\n\u001b[0m\u001b[1;32m   5627\u001b[0m         \u001b[0mim\u001b[0m\u001b[0;34m.\u001b[0m\u001b[0mset_alpha\u001b[0m\u001b[0;34m(\u001b[0m\u001b[0malpha\u001b[0m\u001b[0;34m)\u001b[0m\u001b[0;34m\u001b[0m\u001b[0;34m\u001b[0m\u001b[0m\n\u001b[1;32m   5628\u001b[0m         \u001b[0;32mif\u001b[0m \u001b[0mim\u001b[0m\u001b[0;34m.\u001b[0m\u001b[0mget_clip_path\u001b[0m\u001b[0;34m(\u001b[0m\u001b[0;34m)\u001b[0m \u001b[0;32mis\u001b[0m \u001b[0;32mNone\u001b[0m\u001b[0;34m:\u001b[0m\u001b[0;34m\u001b[0m\u001b[0;34m\u001b[0m\u001b[0m\n",
            "\u001b[0;32m/usr/local/lib/python3.7/dist-packages/matplotlib/image.py\u001b[0m in \u001b[0;36mset_data\u001b[0;34m(self, A)\u001b[0m\n\u001b[1;32m    697\u001b[0m                 or self._A.ndim == 3 and self._A.shape[-1] in [3, 4]):\n\u001b[1;32m    698\u001b[0m             raise TypeError(\"Invalid shape {} for image data\"\n\u001b[0;32m--> 699\u001b[0;31m                             .format(self._A.shape))\n\u001b[0m\u001b[1;32m    700\u001b[0m \u001b[0;34m\u001b[0m\u001b[0m\n\u001b[1;32m    701\u001b[0m         \u001b[0;32mif\u001b[0m \u001b[0mself\u001b[0m\u001b[0;34m.\u001b[0m\u001b[0m_A\u001b[0m\u001b[0;34m.\u001b[0m\u001b[0mndim\u001b[0m \u001b[0;34m==\u001b[0m \u001b[0;36m3\u001b[0m\u001b[0;34m:\u001b[0m\u001b[0;34m\u001b[0m\u001b[0;34m\u001b[0m\u001b[0m\n",
            "\u001b[0;31mTypeError\u001b[0m: Invalid shape (7, 512, 512, 3) for image data"
          ]
        },
        {
          "output_type": "display_data",
          "data": {
            "image/png": "[encoded data removed]",
            "text/plain": [
              "<Figure size 1152x144 with 1 Axes>"
            ]
          },
          "metadata": {
            "needs_background": "light"
          }
        }
      ]
    },
    {
      "cell_type": "code",
      "metadata": {
        "colab": {
          "base_uri": "https://localhost:8080/"
        },
        "id": "-WvoLxXdsYVl",
        "outputId": "ba6b655f-3ecd-4052-d64d-edbdbefabf6c"
      },
      "source": [
        "y"
      ],
      "execution_count": null,
      "outputs": [
        {
          "output_type": "execute_result",
          "data": {
            "text/plain": [
              "array([ 0.00000000e+00,  1.95090322e-01,  3.82683432e-01,  5.55570233e-01,\n",
              "        7.07106781e-01,  8.31469612e-01,  9.23879533e-01,  9.80785280e-01,\n",
              "        1.00000000e+00,  9.80785280e-01,  9.23879533e-01,  8.31469612e-01,\n",
              "        7.07106781e-01,  5.55570233e-01,  3.82683432e-01,  1.95090322e-01,\n",
              "        1.22464680e-16, -1.95090322e-01, -3.82683432e-01, -5.55570233e-01,\n",
              "       -7.07106781e-01, -8.31469612e-01, -9.23879533e-01, -9.80785280e-01,\n",
              "       -1.00000000e+00, -9.80785280e-01, -9.23879533e-01, -8.31469612e-01,\n",
              "       -7.07106781e-01, -5.55570233e-01, -3.82683432e-01, -1.95090322e-01,\n",
              "       -2.44929360e-16,  1.95090322e-01,  3.82683432e-01,  5.55570233e-01,\n",
              "        7.07106781e-01,  8.31469612e-01,  9.23879533e-01,  9.80785280e-01,\n",
              "        1.00000000e+00,  9.80785280e-01,  9.23879533e-01,  8.31469612e-01,\n",
              "        7.07106781e-01,  5.55570233e-01,  3.82683432e-01,  1.95090322e-01,\n",
              "        3.67394040e-16, -1.95090322e-01, -3.82683432e-01, -5.55570233e-01,\n",
              "       -7.07106781e-01, -8.31469612e-01, -9.23879533e-01, -9.80785280e-01,\n",
              "       -1.00000000e+00, -9.80785280e-01, -9.23879533e-01, -8.31469612e-01,\n",
              "       -7.07106781e-01, -5.55570233e-01, -3.82683432e-01, -1.95090322e-01,\n",
              "       -4.89858720e-16,  1.95090322e-01,  3.82683432e-01,  5.55570233e-01,\n",
              "        7.07106781e-01,  8.31469612e-01,  9.23879533e-01,  9.80785280e-01,\n",
              "        1.00000000e+00,  9.80785280e-01,  9.23879533e-01,  8.31469612e-01,\n",
              "        7.07106781e-01,  5.55570233e-01,  3.82683432e-01,  1.95090322e-01,\n",
              "        6.12323400e-16, -1.95090322e-01, -3.82683432e-01, -5.55570233e-01,\n",
              "       -7.07106781e-01, -8.31469612e-01, -9.23879533e-01, -9.80785280e-01,\n",
              "       -1.00000000e+00, -9.80785280e-01, -9.23879533e-01, -8.31469612e-01,\n",
              "       -7.07106781e-01, -5.55570233e-01, -3.82683432e-01, -1.95090322e-01,\n",
              "       -7.34788079e-16,  1.95090322e-01,  3.82683432e-01,  5.55570233e-01,\n",
              "        7.07106781e-01,  8.31469612e-01,  9.23879533e-01,  9.80785280e-01,\n",
              "        1.00000000e+00,  9.80785280e-01,  9.23879533e-01,  8.31469612e-01,\n",
              "        7.07106781e-01,  5.55570233e-01,  3.82683432e-01,  1.95090322e-01,\n",
              "        8.57252759e-16, -1.95090322e-01, -3.82683432e-01, -5.55570233e-01,\n",
              "       -7.07106781e-01, -8.31469612e-01, -9.23879533e-01, -9.80785280e-01,\n",
              "       -1.00000000e+00, -9.80785280e-01, -9.23879533e-01, -8.31469612e-01,\n",
              "       -7.07106781e-01, -5.55570233e-01, -3.82683432e-01, -1.95090322e-01,\n",
              "       -9.79717439e-16,  1.95090322e-01,  3.82683432e-01,  5.55570233e-01,\n",
              "        7.07106781e-01,  8.31469612e-01,  9.23879533e-01,  9.80785280e-01,\n",
              "        1.00000000e+00,  9.80785280e-01,  9.23879533e-01,  8.31469612e-01,\n",
              "        7.07106781e-01,  5.55570233e-01,  3.82683432e-01,  1.95090322e-01,\n",
              "        1.10218212e-15, -1.95090322e-01, -3.82683432e-01, -5.55570233e-01,\n",
              "       -7.07106781e-01, -8.31469612e-01, -9.23879533e-01, -9.80785280e-01,\n",
              "       -1.00000000e+00, -9.80785280e-01, -9.23879533e-01, -8.31469612e-01,\n",
              "       -7.07106781e-01, -5.55570233e-01, -3.82683432e-01, -1.95090322e-01,\n",
              "       -1.22464680e-15,  1.95090322e-01,  3.82683432e-01,  5.55570233e-01,\n",
              "        7.07106781e-01,  8.31469612e-01,  9.23879533e-01,  9.80785280e-01,\n",
              "        1.00000000e+00,  9.80785280e-01,  9.23879533e-01,  8.31469612e-01,\n",
              "        7.07106781e-01,  5.55570233e-01,  3.82683432e-01,  1.95090322e-01,\n",
              "        4.89982516e-15, -1.95090322e-01, -3.82683432e-01, -5.55570233e-01,\n",
              "       -7.07106781e-01, -8.31469612e-01, -9.23879533e-01, -9.80785280e-01,\n",
              "       -1.00000000e+00, -9.80785280e-01, -9.23879533e-01, -8.31469612e-01,\n",
              "       -7.07106781e-01, -5.55570233e-01, -3.82683432e-01, -1.95090322e-01,\n",
              "       -1.46957616e-15,  1.95090322e-01,  3.82683432e-01,  5.55570233e-01,\n",
              "        7.07106781e-01,  8.31469612e-01,  9.23879533e-01,  9.80785280e-01,\n",
              "        1.00000000e+00,  9.80785280e-01,  9.23879533e-01,  8.31469612e-01,\n",
              "        7.07106781e-01,  5.55570233e-01,  3.82683432e-01,  1.95090322e-01,\n",
              "       -1.96067284e-15, -1.95090322e-01, -3.82683432e-01, -5.55570233e-01,\n",
              "       -7.07106781e-01, -8.31469612e-01, -9.23879533e-01, -9.80785280e-01,\n",
              "       -1.00000000e+00, -9.80785280e-01, -9.23879533e-01, -8.31469612e-01,\n",
              "       -7.07106781e-01, -5.55570233e-01, -3.82683432e-01, -1.95090322e-01,\n",
              "       -1.71450552e-15,  1.95090322e-01,  3.82683432e-01,  5.55570233e-01,\n",
              "        7.07106781e-01,  8.31469612e-01,  9.23879533e-01,  9.80785280e-01,\n",
              "        1.00000000e+00,  9.80785280e-01,  9.23879533e-01,  8.31469612e-01,\n",
              "        7.07106781e-01,  5.55570233e-01,  3.82683432e-01,  1.95090322e-01,\n",
              "        5.38968388e-15, -1.95090322e-01, -3.82683432e-01, -5.55570233e-01,\n",
              "       -7.07106781e-01, -8.31469612e-01, -9.23879533e-01, -9.80785280e-01,\n",
              "       -1.00000000e+00, -9.80785280e-01, -9.23879533e-01, -8.31469612e-01,\n",
              "       -7.07106781e-01, -5.55570233e-01, -3.82683432e-01, -1.95090322e-01,\n",
              "       -1.95943488e-15,  1.95090322e-01,  3.82683432e-01,  5.55570233e-01,\n",
              "        7.07106781e-01,  8.31469612e-01,  9.23879533e-01,  9.80785280e-01,\n",
              "        1.00000000e+00,  9.80785280e-01,  9.23879533e-01,  8.31469612e-01,\n",
              "        7.07106781e-01,  5.55570233e-01,  3.82683432e-01,  1.95090322e-01,\n",
              "       -1.47081412e-15, -1.95090322e-01, -3.82683432e-01, -5.55570233e-01,\n",
              "       -7.07106781e-01, -8.31469612e-01, -9.23879533e-01, -9.80785280e-01,\n",
              "       -1.00000000e+00, -9.80785280e-01, -9.23879533e-01, -8.31469612e-01,\n",
              "       -7.07106781e-01, -5.55570233e-01, -3.82683432e-01, -1.95090322e-01,\n",
              "       -2.20436424e-15,  1.95090322e-01,  3.82683432e-01,  5.55570233e-01,\n",
              "        7.07106781e-01,  8.31469612e-01,  9.23879533e-01,  9.80785280e-01,\n",
              "        1.00000000e+00,  9.80785280e-01,  9.23879533e-01,  8.31469612e-01,\n",
              "        7.07106781e-01,  5.55570233e-01,  3.82683432e-01,  1.95090322e-01,\n",
              "        5.87954260e-15, -1.95090322e-01, -3.82683432e-01, -5.55570233e-01,\n",
              "       -7.07106781e-01, -8.31469612e-01, -9.23879533e-01, -9.80785280e-01,\n",
              "       -1.00000000e+00, -9.80785280e-01, -9.23879533e-01, -8.31469612e-01,\n",
              "       -7.07106781e-01, -5.55570233e-01, -3.82683432e-01, -1.95090322e-01,\n",
              "       -2.44929360e-15,  1.95090322e-01,  3.82683432e-01,  5.55570233e-01,\n",
              "        7.07106781e-01,  8.31469612e-01,  9.23879533e-01,  9.80785280e-01,\n",
              "        1.00000000e+00,  9.80785280e-01,  9.23879533e-01,  8.31469612e-01,\n",
              "        7.07106781e-01,  5.55570233e-01,  3.82683432e-01,  1.95090322e-01,\n",
              "       -9.80955401e-16, -1.95090322e-01, -3.82683432e-01, -5.55570233e-01,\n",
              "       -7.07106781e-01, -8.31469612e-01, -9.23879533e-01, -9.80785280e-01,\n",
              "       -1.00000000e+00, -9.80785280e-01, -9.23879533e-01, -8.31469612e-01,\n",
              "       -7.07106781e-01, -5.55570233e-01, -3.82683432e-01, -1.95090322e-01,\n",
              "       -9.79965032e-15,  1.95090322e-01,  3.82683432e-01,  5.55570233e-01,\n",
              "        7.07106781e-01,  8.31469612e-01,  9.23879533e-01,  9.80785280e-01,\n",
              "        1.00000000e+00,  9.80785280e-01,  9.23879533e-01,  8.31469612e-01,\n",
              "        7.07106781e-01,  5.55570233e-01,  3.82683432e-01,  1.95090322e-01,\n",
              "        6.36940132e-15, -1.95090322e-01, -3.82683432e-01, -5.55570233e-01,\n",
              "       -7.07106781e-01, -8.31469612e-01, -9.23879533e-01, -9.80785280e-01,\n",
              "       -1.00000000e+00, -9.80785280e-01, -9.23879533e-01, -8.31469612e-01,\n",
              "       -7.07106781e-01, -5.55570233e-01, -3.82683432e-01, -1.95090322e-01,\n",
              "       -2.93915232e-15,  1.95090322e-01,  3.82683432e-01,  5.55570233e-01,\n",
              "        7.07106781e-01,  8.31469612e-01,  9.23879533e-01,  9.80785280e-01,\n",
              "        1.00000000e+00,  9.80785280e-01,  9.23879533e-01,  8.31469612e-01,\n",
              "        7.07106781e-01,  5.55570233e-01,  3.82683432e-01,  1.95090322e-01,\n",
              "       -4.91096681e-16, -1.95090322e-01, -3.82683432e-01, -5.55570233e-01,\n",
              "       -7.07106781e-01, -8.31469612e-01, -9.23879533e-01, -9.80785280e-01,\n",
              "       -1.00000000e+00, -9.80785280e-01, -9.23879533e-01, -8.31469612e-01,\n",
              "       -7.07106781e-01, -5.55570233e-01, -3.82683432e-01, -1.95090322e-01,\n",
              "        3.92134568e-15,  1.95090322e-01,  3.82683432e-01,  5.55570233e-01,\n",
              "        7.07106781e-01,  8.31469612e-01,  9.23879533e-01,  9.80785280e-01,\n",
              "        1.00000000e+00,  9.80785280e-01,  9.23879533e-01,  8.31469612e-01,\n",
              "        7.07106781e-01,  5.55570233e-01,  3.82683432e-01,  1.95090322e-01,\n",
              "        6.85926004e-15, -1.95090322e-01, -3.82683432e-01, -5.55570233e-01,\n",
              "       -7.07106781e-01, -8.31469612e-01, -9.23879533e-01, -9.80785280e-01,\n",
              "       -1.00000000e+00, -9.80785280e-01, -9.23879533e-01, -8.31469612e-01,\n",
              "       -7.07106781e-01, -5.55570233e-01, -3.82683432e-01, -1.95090322e-01,\n",
              "       -3.42901104e-15,  1.95090322e-01,  3.82683432e-01,  5.55570233e-01,\n",
              "        7.07106781e-01,  8.31469612e-01,  9.23879533e-01,  9.80785280e-01,\n",
              "        1.00000000e+00,  9.80785280e-01,  9.23879533e-01,  8.31469612e-01,\n",
              "        7.07106781e-01,  5.55570233e-01,  3.82683432e-01,  1.95090322e-01,\n",
              "       -1.23796127e-18, -1.95090322e-01, -3.82683432e-01, -5.55570233e-01,\n",
              "       -7.07106781e-01, -8.31469612e-01, -9.23879533e-01, -9.80785280e-01,\n",
              "       -1.00000000e+00, -9.80785280e-01, -9.23879533e-01, -8.31469612e-01,\n",
              "       -7.07106781e-01, -5.55570233e-01, -3.82683432e-01, -1.95090322e-01,\n",
              "       -1.07793678e-14,  1.95090322e-01,  3.82683432e-01,  5.55570233e-01,\n",
              "        7.07106781e-01,  8.31469612e-01,  9.23879533e-01,  9.80785280e-01,\n",
              "        1.00000000e+00,  9.80785280e-01,  9.23879533e-01,  8.31469612e-01,\n",
              "        7.07106781e-01,  5.55570233e-01,  3.82683432e-01,  1.95090322e-01,\n",
              "        7.34911876e-15, -1.95090322e-01, -3.82683432e-01, -5.55570233e-01,\n",
              "       -7.07106781e-01, -8.31469612e-01, -9.23879533e-01, -9.80785280e-01,\n",
              "       -1.00000000e+00, -9.80785280e-01, -9.23879533e-01, -8.31469612e-01,\n",
              "       -7.07106781e-01, -5.55570233e-01, -3.82683432e-01, -1.95090322e-01])"
            ]
          },
          "metadata": {},
          "execution_count": 29
        }
      ]
    },
    {
      "cell_type": "code",
      "metadata": {
        "id": "KEHj44Wfsd-t"
      },
      "source": [
        ""
      ],
      "execution_count": null,
      "outputs": []
    }
  ]
}