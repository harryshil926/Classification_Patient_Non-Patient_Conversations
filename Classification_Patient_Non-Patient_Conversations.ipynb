{
 "cells": [
  {
   "cell_type": "markdown",
   "metadata": {},
   "source": [
    "# 1. Pre-steps"
   ]
  },
  {
   "cell_type": "markdown",
   "metadata": {},
   "source": [
    "## 1.1 Import the necessary packages"
   ]
  },
  {
   "cell_type": "code",
   "execution_count": 175,
   "metadata": {},
   "outputs": [],
   "source": [
    "import pandas as pd\n",
    "import nltk\n",
    "from nltk.tokenize import RegexpTokenizer\n",
    "from nltk.corpus import stopwords\n",
    "from nltk.stem import PorterStemmer\n",
    "from sklearn.feature_extraction.text import TfidfVectorizer\n",
    "import re\n",
    "from sklearn.naive_bayes import GaussianNB \n",
    "from sklearn.model_selection import train_test_split\n",
    "from sklearn import svm\n",
    "import matplotlib.pyplot as plt\n",
    "from imblearn.over_sampling import SMOTE, RandomOverSampler\n",
    "from imblearn.under_sampling import RandomUnderSampler\n",
    "from sklearn.model_selection import cross_val_score\n",
    "from sklearn.model_selection import RepeatedStratifiedKFold\n",
    "from imblearn.pipeline import Pipeline\n",
    "from sklearn.model_selection import cross_validate\n",
    "from sklearn.pipeline import make_pipeline"
   ]
  },
  {
   "cell_type": "markdown",
   "metadata": {},
   "source": [
    "## 1.2 Import the required dataset"
   ]
  },
  {
   "cell_type": "code",
   "execution_count": 176,
   "metadata": {},
   "outputs": [
    {
     "data": {
      "text/html": [
       "<div>\n",
       "<style scoped>\n",
       "    .dataframe tbody tr th:only-of-type {\n",
       "        vertical-align: middle;\n",
       "    }\n",
       "\n",
       "    .dataframe tbody tr th {\n",
       "        vertical-align: top;\n",
       "    }\n",
       "\n",
       "    .dataframe thead th {\n",
       "        text-align: right;\n",
       "    }\n",
       "</style>\n",
       "<table border=\"1\" class=\"dataframe\">\n",
       "  <thead>\n",
       "    <tr style=\"text-align: right;\">\n",
       "      <th></th>\n",
       "      <th>Patient_Tag</th>\n",
       "      <th>MOD_TRANS_CONV_TEXT</th>\n",
       "    </tr>\n",
       "  </thead>\n",
       "  <tbody>\n",
       "    <tr>\n",
       "      <th>0</th>\n",
       "      <td>0</td>\n",
       "      <td>I don't disagree with you in principle. I'm ju...</td>\n",
       "    </tr>\n",
       "    <tr>\n",
       "      <th>1</th>\n",
       "      <td>1</td>\n",
       "      <td>I am always dizzy I get dizzy standing up so I...</td>\n",
       "    </tr>\n",
       "    <tr>\n",
       "      <th>2</th>\n",
       "      <td>0</td>\n",
       "      <td>Axelle/Bauer-Griffin/FilmMagic(NEW YORK) -- Qu...</td>\n",
       "    </tr>\n",
       "    <tr>\n",
       "      <th>3</th>\n",
       "      <td>1</td>\n",
       "      <td>I am 17 and I have been throwing up for about ...</td>\n",
       "    </tr>\n",
       "    <tr>\n",
       "      <th>4</th>\n",
       "      <td>0</td>\n",
       "      <td>Quote: Originally Posted by Boyan Silyavski Wa...</td>\n",
       "    </tr>\n",
       "  </tbody>\n",
       "</table>\n",
       "</div>"
      ],
      "text/plain": [
       "   Patient_Tag                                MOD_TRANS_CONV_TEXT\n",
       "0            0  I don't disagree with you in principle. I'm ju...\n",
       "1            1  I am always dizzy I get dizzy standing up so I...\n",
       "2            0  Axelle/Bauer-Griffin/FilmMagic(NEW YORK) -- Qu...\n",
       "3            1  I am 17 and I have been throwing up for about ...\n",
       "4            0  Quote: Originally Posted by Boyan Silyavski Wa..."
      ]
     },
     "execution_count": 176,
     "metadata": {},
     "output_type": "execute_result"
    }
   ],
   "source": [
    "df = pd.read_csv(\"data.csv\",encoding = 'unicode_escape')\n",
    "df['MOD_TRANS_CONV_TEXT'] = df['TRANS_CONV_TEXT']\n",
    "df = df[['Patient_Tag', 'MOD_TRANS_CONV_TEXT']]\n",
    "df.head()"
   ]
  },
  {
   "cell_type": "markdown",
   "metadata": {},
   "source": [
    "## 1.3 View text\n",
    "\n",
    "The text documents consists of heart-failure related conversations extracted from various platforms.\n",
    "It is required to build an intelligent workflow that extracts patient conversations from the entire group of documents. The problem is of supervised learning type as the conversations have been tagged beforehand manually."
   ]
  },
  {
   "cell_type": "code",
   "execution_count": 177,
   "metadata": {},
   "outputs": [
    {
     "data": {
      "text/plain": [
       "'I don\\'t disagree with you in principle. I\\'m just saying that Entresto has been a major failure of Novartis commercial organisation. They (Novartis) were totally exposed at Q1 call. With reimbursement issues being resolved, the true underlying problem with Entresto was unveiled: Novartis failed to create the demand for the drug. Their disease-awareness campaign in the US (the drowning man) was incredibly poor (fear- and panic-inducing). What is more, they advertised the wrong condition. They were raising awareness of life-threatening ACUTE heart failure instead of CHRONIC heart failure, for which Entresto is indicated. Entresto has nothing to do with the treatment of acute heart failure. If that was not due to their shocking lack of knowledge of the disease area, it can only be explained as a conscious misleading of patients. They managed to alienate medical community, advocacy groups and top KOLs, including their own principal investigator in Entresto trials who publicly expressed his concerns. It?s unheard of. But it provides clues as to what actually happened. An incompetent strategic marketing team establishes the wrong go-to-market model based on wrong market assumptions. And they persistently kept going in the wrong direction, completely oblivious to the extent of their own incompetence. It\\'s a typical example of ignorance bias (\"Ignorance more frequently begets confidence than does knowledge?). If it wasn?t for the analysts who were challenging Novartis in public, who knows how long they would have continued to be in denial. It is stunning that Novartis, once a leading cardiovascular company, bombed the launch of a cardiovascular primary care product - a combo of their own Diovan. With this, they discovered a new low. David was let down by his own people. He trusted them, but he should have known better. His hands-off management style didn?t work at Novartis Pharma (in contrast to Oncology). It?s a toxic culture, populated with yes people, where competences and skills are not valued or required for promotion. It is strange though that after so many years in operational positions, Joerg seemingly stayed uninvolved. At least that\\'s how it looks from the outside.'"
      ]
     },
     "execution_count": 177,
     "metadata": {},
     "output_type": "execute_result"
    }
   ],
   "source": [
    "# Non-patient conversation\n",
    "df['MOD_TRANS_CONV_TEXT'][0]"
   ]
  },
  {
   "cell_type": "code",
   "execution_count": 178,
   "metadata": {},
   "outputs": [
    {
     "data": {
      "text/plain": [
       "\"I am always dizzy I get dizzy standing up so I have made myself get up slow , I am dizzy when I turn around or turn my head so again I do these slow. I check my blood pressure every day and its usually around 94_ 113 / 65 _78 and have been told that's normal. In England we have a fantastic hospital called Christies which is a cancer hospital but I haven't heard of a hospital that is just for hearts so Monday I'm going to make it my mission to find out if we have one or not.\""
      ]
     },
     "execution_count": 178,
     "metadata": {},
     "output_type": "execute_result"
    }
   ],
   "source": [
    "# Patient conversations\n",
    "df['MOD_TRANS_CONV_TEXT'][1]"
   ]
  },
  {
   "cell_type": "markdown",
   "metadata": {},
   "source": [
    "## 1.4 Get percentage distribution of each class"
   ]
  },
  {
   "cell_type": "code",
   "execution_count": 179,
   "metadata": {},
   "outputs": [
    {
     "data": {
      "text/html": [
       "<div>\n",
       "<style scoped>\n",
       "    .dataframe tbody tr th:only-of-type {\n",
       "        vertical-align: middle;\n",
       "    }\n",
       "\n",
       "    .dataframe tbody tr th {\n",
       "        vertical-align: top;\n",
       "    }\n",
       "\n",
       "    .dataframe thead th {\n",
       "        text-align: right;\n",
       "    }\n",
       "</style>\n",
       "<table border=\"1\" class=\"dataframe\">\n",
       "  <thead>\n",
       "    <tr style=\"text-align: right;\">\n",
       "      <th></th>\n",
       "      <th>Percentage (%)</th>\n",
       "    </tr>\n",
       "    <tr>\n",
       "      <th>Class</th>\n",
       "      <th></th>\n",
       "    </tr>\n",
       "  </thead>\n",
       "  <tbody>\n",
       "    <tr>\n",
       "      <th>0</th>\n",
       "      <td>79.26</td>\n",
       "    </tr>\n",
       "    <tr>\n",
       "      <th>1</th>\n",
       "      <td>20.74</td>\n",
       "    </tr>\n",
       "  </tbody>\n",
       "</table>\n",
       "</div>"
      ],
      "text/plain": [
       "       Percentage (%)\n",
       "Class                \n",
       "0               79.26\n",
       "1               20.74"
      ]
     },
     "execution_count": 179,
     "metadata": {},
     "output_type": "execute_result"
    }
   ],
   "source": [
    "percentage_df = pd.DataFrame()\n",
    "class_0 = round((len(df)-np.sum(df['Patient_Tag']==1))*100/len(df),2)\n",
    "class_1 = round(np.sum(df['Patient_Tag'])*100/ len(df),2)\n",
    "percentage_df['Percentage (%)'] = [class_0, class_1]\n",
    "percentage_df['Class']= [0,1]\n",
    "percentage_df.index = percentage_df['Class']\n",
    "percentage_df = percentage_df[['Percentage (%)']]\n",
    "percentage_df"
   ]
  },
  {
   "cell_type": "markdown",
   "metadata": {},
   "source": [
    "It can be clearly observed that the dataset is highly imbalanced. (80:20)"
   ]
  },
  {
   "cell_type": "markdown",
   "metadata": {},
   "source": [
    "# 2. Pre-process data\n",
    "\n"
   ]
  },
  {
   "cell_type": "markdown",
   "metadata": {},
   "source": [
    "## 2.1 Data Cleaning\n",
    "\n",
    "It is necessary to bring the text documents into a suitable format by removal of noisy elements.\n",
    "Different symbols, stop words, upper case characters are being removed. \n",
    "Stemming is performed to get the words to their base form."
   ]
  },
  {
   "cell_type": "code",
   "execution_count": 180,
   "metadata": {},
   "outputs": [],
   "source": [
    "tokenizer=RegexpTokenizer(r'\\w+|\\.')\n",
    "stop_words=set(stopwords.words(\"english\"))\n",
    "def clean_text(text):\n",
    "    text = re.sub(r'<.*?>', '', text)\n",
    "    text = re.sub(r\"\\\\\", \"\", text)    \n",
    "    text = re.sub(r\"\\'\", \"\", text)    \n",
    "    text = re.sub(r\"\\\"\", \"\", text)    \n",
    "    text = text.strip().lower()\n",
    "    text = ''.join([i for i in text if not i.isdigit()])\n",
    "    filters='!\"\\'#$%&()*+,-/:;<=>?@[\\\\]^_`{|}~\\t\\n'\n",
    "    translate_dict = dict((c, \" \") for c in filters)\n",
    "    translate_map = str.maketrans(translate_dict)\n",
    "    text = text.translate(translate_map)\n",
    "    return text"
   ]
  },
  {
   "cell_type": "code",
   "execution_count": 181,
   "metadata": {},
   "outputs": [],
   "source": [
    "df['MOD_TRANS_CONV_TEXT'] = df['MOD_TRANS_CONV_TEXT'].apply(lambda x : clean_text(str(x)))\n",
    "df['MOD_TRANS_CONV_TEXT'] = df['MOD_TRANS_CONV_TEXT'].apply(lambda x : tokenizer.tokenize(str(x)))\n",
    "df['MOD_TRANS_CONV_TEXT'] = df['MOD_TRANS_CONV_TEXT'].apply(lambda x : [w for w in x if not w in stop_words])\n",
    "ps=PorterStemmer()\n",
    "df['MOD_TRANS_CONV_TEXT'] = df['MOD_TRANS_CONV_TEXT'].apply(lambda l : [ps.stem(w) for w in l])\n",
    "df['MOD_TRANS_CONV_TEXT'] = df['MOD_TRANS_CONV_TEXT'].apply(lambda x : \" \".join(tokenizer.tokenize(str(x))))\n",
    "corpus=df['MOD_TRANS_CONV_TEXT'].tolist()\n"
   ]
  },
  {
   "cell_type": "markdown",
   "metadata": {},
   "source": [
    "## 2.2 Perform train-test split\n",
    "\n",
    "A 70:30 split is being performed."
   ]
  },
  {
   "cell_type": "code",
   "execution_count": 182,
   "metadata": {},
   "outputs": [],
   "source": [
    "X = corpus\n",
    "y = df['Patient_Tag'].values\n",
    "X_train, X_test, y_train, y_test = train_test_split(X,y, test_size =0.30, random_state=2)"
   ]
  },
  {
   "cell_type": "markdown",
   "metadata": {},
   "source": [
    "# 3. Exploratory Data Analysis\n",
    "It is required to characterize the importance of a particular word to a document. The TFIDF (term frequency–inverse document frequency) is a metric that defines how unique a word is to a document within the entire set of documents. A score is assigned to each word for every document. It is expected that certain set of words would be unique to patient conversations. The computed scores then act as feature vectors for the modelling exercise since algorithms cannot directly work with raw textual data."
   ]
  },
  {
   "cell_type": "code",
   "execution_count": 183,
   "metadata": {},
   "outputs": [],
   "source": [
    "# Each word is assigned a score proportional to how unique the word is in the entire set of documents.\n",
    "# These scores are represented in a matrix format. \n",
    "tfidf_vectorizer = TfidfVectorizer(use_idf = True)\n",
    "X_train = tfidf_vectorizer.fit_transform(X_train)\n",
    "X_train = X_train.toarray()\n"
   ]
  },
  {
   "cell_type": "markdown",
   "metadata": {},
   "source": [
    "Now, calculate the mean TFIDF scores for documents falling within each category and list out the top 25 words."
   ]
  },
  {
   "cell_type": "code",
   "execution_count": 184,
   "metadata": {},
   "outputs": [],
   "source": [
    "def mean_tfidf(X, y, document_category = 0):\n",
    "    avg_df = pd.DataFrame()\n",
    "    avg_df['']= tfidf_vectorizer.get_feature_names()\n",
    "    avg_df = avg_df.set_index('')\n",
    "    for elem in y_train:\n",
    "        index_list = [i for i in range(len(y_train)) if y[i] == document_category] \n",
    "    top50_lst =[]\n",
    "    for idx in index_list:\n",
    "        temp_df = pd.DataFrame(X[idx], index=tfidf_vectorizer.get_feature_names(), columns=[\"tfidf\"+str(idx)])\n",
    "        avg_df = avg_df.join(temp_df[\"tfidf\"+str(idx)])\n",
    "    avg_df['tfidf'] = avg_df.mean(axis = 1)\n",
    "    avg_df = avg_df.nlargest(25, 'tfidf')\n",
    "    avg_df['Mean TF-IDF score'] = avg_df['tfidf']\n",
    "    avg_df = avg_df[['Mean TF-IDF score']]\n",
    "    return avg_df\n",
    "\n",
    "def create_horizontal_barplot(df_0, df_1, value_name, color):\n",
    "    fig = plt.figure(figsize=(12, 9), facecolor=\"w\")\n",
    "    dfs = [df_0, df_1]\n",
    "    for i, df in enumerate(dfs):\n",
    "        ax = fig.add_subplot(1, len(dfs), i+1)\n",
    "        ax.spines[\"top\"].set_visible(False)\n",
    "        ax.spines[\"right\"].set_visible(False)\n",
    "        ax.set_frame_on(False)\n",
    "        ax.get_xaxis().tick_bottom()\n",
    "        ax.get_yaxis().tick_left()\n",
    "        ax.set_xlabel(value_name, labelpad=16, fontsize=14)\n",
    "        ax.ticklabel_format(axis='x', style='sci', scilimits=(-2,2))\n",
    "        if df is df_0:\n",
    "            ax.barh(df.index,df[value_name], align='center', color= color)\n",
    "            ax.set_title(\"Non-Patient Conversations\", fontsize=16)\n",
    "        else:\n",
    "            ax.barh(df.index,df[value_name], align='center', color= color)\n",
    "            ax.set_title(\"Patient Conversations\", fontsize=16)\n",
    "        plt.subplots_adjust(bottom=0.09, right=0.97, left=0.15, top=0.95, wspace=0.52)\n",
    "\n"
   ]
  },
  {
   "cell_type": "code",
   "execution_count": 185,
   "metadata": {},
   "outputs": [],
   "source": [
    "mean_scores_1 = mean_tfidf(X_train, y_train, document_category = 1)\n",
    "mean_scores_0 = mean_tfidf(X_train, y_train, document_category = 0)\n"
   ]
  },
  {
   "cell_type": "code",
   "execution_count": 186,
   "metadata": {},
   "outputs": [
    {
     "data": {
      "image/png": "[encoded data removed]",
      "text/plain": [
       "<Figure size 864x648 with 2 Axes>"
      ]
     },
     "metadata": {},
     "output_type": "display_data"
    }
   ],
   "source": [
    "create_horizontal_barplot(mean_scores_0, mean_scores_1, value_name = 'Mean TF-IDF score', color = 'olivedrab')"
   ]
  },
  {
   "cell_type": "markdown",
   "metadata": {},
   "source": [
    "The high scoring words differ for each category, except for 3 words."
   ]
  },
  {
   "cell_type": "code",
   "execution_count": 187,
   "metadata": {},
   "outputs": [
    {
     "name": "stdout",
     "output_type": "stream",
     "text": [
      "The following are the common elements:\n"
     ]
    },
    {
     "data": {
      "text/plain": [
       "{'failur', 'heart', 'year'}"
      ]
     },
     "execution_count": 187,
     "metadata": {},
     "output_type": "execute_result"
    }
   ],
   "source": [
    "def common_element(a, b): \n",
    "    a_set = set(a) \n",
    "    b_set = set(b) \n",
    "    if (a_set & b_set): \n",
    "        return (a_set & b_set)\n",
    "    else: \n",
    "        print(\"No common elements\")\n",
    "        \n",
    "print('The following are the common elements:')\n",
    "common_lst = common_element(mean_scores_1.index, mean_scores_0.index)\n",
    "common_lst"
   ]
  },
  {
   "cell_type": "markdown",
   "metadata": {},
   "source": [
    "A function is defined that computes the number of times words appear in the 'top-10 TFIDF' scores for each document. This computation has been performed separately for each of the classes inorder to truly understand which set of words are more representative of a particular class."
   ]
  },
  {
   "cell_type": "code",
   "execution_count": 188,
   "metadata": {},
   "outputs": [],
   "source": [
    "def get_best_tfidfs(X, y, document_category = 1):\n",
    "    for elem in y_train:\n",
    "        index_list = [i for i in range(len(y_train)) if y[i] == document_category] \n",
    "    top50_lst =[]\n",
    "    for idx in index_list:\n",
    "        temp_df = pd.DataFrame(X[idx], index=tfidf_vectorizer.get_feature_names(), columns=[\"tfidf\"+str(idx)])\n",
    "        top50_lst.append(temp_df.nlargest(10,\"tfidf\"+str(idx)).index)\n",
    "    top50_lst = np.array(top50_lst)\n",
    "    top50_lst = top50_lst.ravel()\n",
    "    (values,counts) = np.unique(top50_lst, return_counts=True)\n",
    "    count_df = pd.DataFrame()\n",
    "    count_df['values'] = values\n",
    "    count_df['Number of docs where word is high scoring'] = counts\n",
    "    count_df = count_df.nlargest(25, 'Number of docs where word is high scoring')\n",
    "    count_df = count_df.set_index('values')\n",
    "    return count_df\n"
   ]
  },
  {
   "cell_type": "code",
   "execution_count": 189,
   "metadata": {},
   "outputs": [],
   "source": [
    "count_0 = get_best_tfidfs(X_train, y_train, document_category = 0)\n",
    "count_1 = get_best_tfidfs(X_train, y_train, document_category = 1)"
   ]
  },
  {
   "cell_type": "code",
   "execution_count": 190,
   "metadata": {},
   "outputs": [
    {
     "data": {
      "image/png": "[encoded data removed]",
      "text/plain": [
       "<Figure size 864x648 with 2 Axes>"
      ]
     },
     "metadata": {},
     "output_type": "display_data"
    }
   ],
   "source": [
    "create_horizontal_barplot(count_0, count_1, value_name = 'Number of docs where word is high scoring', color = 'goldenrod')"
   ]
  },
  {
   "cell_type": "code",
   "execution_count": 191,
   "metadata": {
    "scrolled": true
   },
   "outputs": [
    {
     "name": "stdout",
     "output_type": "stream",
     "text": [
      "The following are the common elements:\n"
     ]
    },
    {
     "data": {
      "text/plain": [
       "{'caus', 'heart'}"
      ]
     },
     "execution_count": 191,
     "metadata": {},
     "output_type": "execute_result"
    }
   ],
   "source": [
    "common_lst = common_element(count_0.index, count_1.index)\n",
    "print('The following are the common elements:')\n",
    "common_lst"
   ]
  },
  {
   "cell_type": "markdown",
   "metadata": {},
   "source": [
    "It can be observed that certain set of words represent one class more than the other. The TFIDF scores quantifies these representations. The purpose of the above analysis was to ascertain that TFIDF scores have helped differentiate between the two classes. The prominent features for both classes differ significantly. In the next steps, we choose our classifier based on the above finding."
   ]
  },
  {
   "cell_type": "markdown",
   "metadata": {},
   "source": [
    "# 4. Feature Engineering and Modelling\n",
    "\n",
    "NLP tasks comprise of high dimensional but sparse feature vectors. In our case, each class has almost completely different set of important features, thus the positive and negative samples would be distributed in completely different regions of the high dimensional feature space. Thus, we expect our classes to be linearly separable. Using a linear kernel for the SVM classifier should suffice for our problem."
   ]
  },
  {
   "cell_type": "markdown",
   "metadata": {},
   "source": [
    "## 4.1 Iteration-1"
   ]
  },
  {
   "cell_type": "markdown",
   "metadata": {},
   "source": [
    "Stratified K-Fold Cross-Validation is used to maintain the original train, test ratio for each individual split. To prevent the inclusion of the validation data for the purpose of modelling, it is necessary that our Tfidf vectorizer fits only on the train set, a pipeline has been created that performs the Tfidf vector formation and also fits the classifier object. Using the pipeline ensures that the validation data doesn't leak into the Tfidf vectorizer results. The evaluation metrics obtained would be the mean of the evaluation metric for all splits."
   ]
  },
  {
   "cell_type": "code",
   "execution_count": 199,
   "metadata": {},
   "outputs": [],
   "source": [
    "def cross_val_iter1(X, y, scoring_lst):\n",
    "    cv = RepeatedStratifiedKFold(n_splits=10, n_repeats=3, random_state=1)\n",
    "    pipeline = make_pipeline(TfidfVectorizer(), svm.SVC(C=1, kernel='linear'))\n",
    "    scores = cross_validate(pipeline, X, y, scoring=scoring_lst, cv=cv, n_jobs=-1)\n",
    "    return round(np.mean(scores['test_accuracy']),4), round(np.mean(scores['test_precision']),4), round(np.mean(scores['test_recall']),4), round(np.mean(scores['test_f1']),4)\n",
    "    "
   ]
  },
  {
   "cell_type": "code",
   "execution_count": 200,
   "metadata": {
    "scrolled": true
   },
   "outputs": [
    {
     "name": "stdout",
     "output_type": "stream",
     "text": [
      "Iteration-1:\n"
     ]
    },
    {
     "data": {
      "text/html": [
       "<div>\n",
       "<style scoped>\n",
       "    .dataframe tbody tr th:only-of-type {\n",
       "        vertical-align: middle;\n",
       "    }\n",
       "\n",
       "    .dataframe tbody tr th {\n",
       "        vertical-align: top;\n",
       "    }\n",
       "\n",
       "    .dataframe thead th {\n",
       "        text-align: right;\n",
       "    }\n",
       "</style>\n",
       "<table border=\"1\" class=\"dataframe\">\n",
       "  <thead>\n",
       "    <tr style=\"text-align: right;\">\n",
       "      <th></th>\n",
       "      <th>Metric</th>\n",
       "      <th>Initial results (No sampling)</th>\n",
       "    </tr>\n",
       "  </thead>\n",
       "  <tbody>\n",
       "    <tr>\n",
       "      <th>0</th>\n",
       "      <td>Accuracy</td>\n",
       "      <td>0.8925</td>\n",
       "    </tr>\n",
       "    <tr>\n",
       "      <th>1</th>\n",
       "      <td>Precision</td>\n",
       "      <td>0.7948</td>\n",
       "    </tr>\n",
       "    <tr>\n",
       "      <th>2</th>\n",
       "      <td>Recall</td>\n",
       "      <td>0.6583</td>\n",
       "    </tr>\n",
       "    <tr>\n",
       "      <th>3</th>\n",
       "      <td>F1 Score</td>\n",
       "      <td>0.7145</td>\n",
       "    </tr>\n",
       "  </tbody>\n",
       "</table>\n",
       "</div>"
      ],
      "text/plain": [
       "      Metric  Initial results (No sampling)\n",
       "0   Accuracy                         0.8925\n",
       "1  Precision                         0.7948\n",
       "2     Recall                         0.6583\n",
       "3   F1 Score                         0.7145"
      ]
     },
     "execution_count": 200,
     "metadata": {},
     "output_type": "execute_result"
    }
   ],
   "source": [
    "print('Iteration-1:')\n",
    "summary_scores_df = pd.DataFrame()\n",
    "summary_scores_df['Metric'] = ['Accuracy', 'Precision', 'Recall', 'F1 Score' ]\n",
    "summary_scores_df['Initial results (No sampling)'] = cross_val_iter1(X,y, ['accuracy', 'precision', 'recall','f1'])\n",
    "summary_scores_df"
   ]
  },
  {
   "cell_type": "markdown",
   "metadata": {},
   "source": [
    "Since the dataset is highly imbalanced, the accuracy score is highly misleading and is not the right metric to observe. The low recall score indicates that the model isn't performing well on the positive samples, i.e due to less data availability for the positive samples, the model has been trained insufficiently."
   ]
  },
  {
   "cell_type": "markdown",
   "metadata": {},
   "source": [
    "## 4.2 Iteration-2"
   ]
  },
  {
   "cell_type": "markdown",
   "metadata": {},
   "source": [
    "Inorder to improve the performance of the model on the positive samples, it is necessary to have more\n",
    "data points for it and reduce the imbalance in the dataset. \n",
    "Oversampling is a way to synthetically generate data samples for the minority class so as to ensure better balance in our data. These samples are generated through different techniques by finding K nearest neighbours for each sample in the minority class and generating a new sample between these neighbours (SMOTE). Random Sampling of points in the minority class is another way to oversample. Let's analyze the performance after performing these operations. It is to be noted that the oversampling technique would be part of the pipeline."
   ]
  },
  {
   "cell_type": "code",
   "execution_count": 201,
   "metadata": {},
   "outputs": [],
   "source": [
    "def cross_val_iter2(X, y, scoring_lst, oversampling_technique):\n",
    "    cv = RepeatedStratifiedKFold(n_splits=10, n_repeats=3, random_state=1)\n",
    "    if oversampling_technique is 'SMOTE':\n",
    "        pipeline = Pipeline([('tfidf',TfidfVectorizer()),('smote',SMOTE(random_state=42)), ('svm',svm.SVC(C=1, kernel='linear'))])\n",
    "    elif oversampling_technique is 'Random':\n",
    "        pipeline = Pipeline([('tfidf',TfidfVectorizer()),('random_sampler',RandomOverSampler(random_state=42)), ('svm',svm.SVC(C=1, kernel='linear'))])\n",
    "    scores = cross_validate(pipeline, X, y, scoring=scoring_lst, cv=cv, n_jobs=-1)\n",
    "    return round(np.mean(scores['test_accuracy']),4), round(np.mean(scores['test_precision']),4), round(np.mean(scores['test_recall']),4), round(np.mean(scores['test_f1']),4)\n",
    "    "
   ]
  },
  {
   "cell_type": "code",
   "execution_count": 202,
   "metadata": {},
   "outputs": [
    {
     "name": "stdout",
     "output_type": "stream",
     "text": [
      "Iteration-2:\n"
     ]
    },
    {
     "data": {
      "text/html": [
       "<div>\n",
       "<style scoped>\n",
       "    .dataframe tbody tr th:only-of-type {\n",
       "        vertical-align: middle;\n",
       "    }\n",
       "\n",
       "    .dataframe tbody tr th {\n",
       "        vertical-align: top;\n",
       "    }\n",
       "\n",
       "    .dataframe thead th {\n",
       "        text-align: right;\n",
       "    }\n",
       "</style>\n",
       "<table border=\"1\" class=\"dataframe\">\n",
       "  <thead>\n",
       "    <tr style=\"text-align: right;\">\n",
       "      <th></th>\n",
       "      <th>Metric</th>\n",
       "      <th>Initial results (No sampling)</th>\n",
       "      <th>Random</th>\n",
       "      <th>SMOTE</th>\n",
       "    </tr>\n",
       "  </thead>\n",
       "  <tbody>\n",
       "    <tr>\n",
       "      <th>0</th>\n",
       "      <td>Accuracy</td>\n",
       "      <td>0.8925</td>\n",
       "      <td>0.8966</td>\n",
       "      <td>0.8954</td>\n",
       "    </tr>\n",
       "    <tr>\n",
       "      <th>1</th>\n",
       "      <td>Precision</td>\n",
       "      <td>0.7948</td>\n",
       "      <td>0.7748</td>\n",
       "      <td>0.7744</td>\n",
       "    </tr>\n",
       "    <tr>\n",
       "      <th>2</th>\n",
       "      <td>Recall</td>\n",
       "      <td>0.6583</td>\n",
       "      <td>0.7139</td>\n",
       "      <td>0.7083</td>\n",
       "    </tr>\n",
       "    <tr>\n",
       "      <th>3</th>\n",
       "      <td>F1 Score</td>\n",
       "      <td>0.7145</td>\n",
       "      <td>0.7396</td>\n",
       "      <td>0.7362</td>\n",
       "    </tr>\n",
       "  </tbody>\n",
       "</table>\n",
       "</div>"
      ],
      "text/plain": [
       "      Metric  Initial results (No sampling)  Random   SMOTE\n",
       "0   Accuracy                         0.8925  0.8966  0.8954\n",
       "1  Precision                         0.7948  0.7748  0.7744\n",
       "2     Recall                         0.6583  0.7139  0.7083\n",
       "3   F1 Score                         0.7145  0.7396  0.7362"
      ]
     },
     "execution_count": 202,
     "metadata": {},
     "output_type": "execute_result"
    }
   ],
   "source": [
    "print('Iteration-2:')\n",
    "summary_scores_df['Random'] = cross_val_iter2(X,y, ['accuracy', 'precision','recall', 'f1'], oversampling_technique = 'Random')\n",
    "summary_scores_df['SMOTE'] = cross_val_iter2(X,y, ['accuracy', 'precision','recall', 'f1'], oversampling_technique = 'SMOTE')\n",
    "summary_scores_df"
   ]
  },
  {
   "cell_type": "markdown",
   "metadata": {},
   "source": [
    "From the above table we can clearly see that oversampling the data does improve the model performance on positive samples. A tradeoff always exists between the precision and recall, the F1 score characterizes this trade-off with a metric by taking their harmonic mean. An improvement in F1-score is also observed after oversampling."
   ]
  },
  {
   "cell_type": "markdown",
   "metadata": {},
   "source": [
    "## 4.3 Iteration-3\n",
    "After oversampling an improvement in performance was observed since the model learnt to recognize the minority class better. However, the model weights are still overly biased towards the majority class because of the large number of original samples of it present in the data. The goal for this iteration is to make sure that the bias towards the majority class is reduced. This can be performed by slightly oversampling the minority class first and then undersampling the majority class. \n",
    "\n",
    "Note: The sampling strategy is set to 0.3 for the oversampling phase because we already have an initial balance ratio 0.2 in our dataset. "
   ]
  },
  {
   "cell_type": "code",
   "execution_count": 203,
   "metadata": {},
   "outputs": [],
   "source": [
    "def cross_val_iter3(X, y, scoring_lst, oversampling_technique):\n",
    "    cv = RepeatedStratifiedKFold(n_splits=10, n_repeats=3, random_state=1)\n",
    "    if oversampling_technique is 'SMOTE':\n",
    "        pipeline = Pipeline([('tfidf',TfidfVectorizer()),('smote',SMOTE(sampling_strategy = 0.3,random_state=42)), ('random_undersampler',RandomUnderSampler(sampling_strategy = 0.5, random_state=42)), ('svm',svm.SVC(C=1, kernel='linear'))])\n",
    "    elif oversampling_technique is 'Random':\n",
    "        pipeline = Pipeline([('tfidf',TfidfVectorizer()),('random_oversampler',RandomOverSampler(sampling_strategy = 0.3, random_state=42)), ('random_undersampler',RandomUnderSampler(sampling_strategy = 0.5, random_state=42)),('svm',svm.SVC(C=1, kernel='linear'))])\n",
    "\n",
    "    scores = cross_validate(pipeline, X, y, scoring=scoring_lst, cv=cv, n_jobs=-1)\n",
    "    return round(np.mean(scores['test_accuracy']),4), round(np.mean(scores['test_precision']),4), round(np.mean(scores['test_recall']),4), round(np.mean(scores['test_f1']),4)\n",
    "    "
   ]
  },
  {
   "cell_type": "code",
   "execution_count": 204,
   "metadata": {
    "scrolled": false
   },
   "outputs": [
    {
     "name": "stdout",
     "output_type": "stream",
     "text": [
      "Iteration 3:\n"
     ]
    },
    {
     "data": {
      "text/html": [
       "<div>\n",
       "<style scoped>\n",
       "    .dataframe tbody tr th:only-of-type {\n",
       "        vertical-align: middle;\n",
       "    }\n",
       "\n",
       "    .dataframe tbody tr th {\n",
       "        vertical-align: top;\n",
       "    }\n",
       "\n",
       "    .dataframe thead th {\n",
       "        text-align: right;\n",
       "    }\n",
       "</style>\n",
       "<table border=\"1\" class=\"dataframe\">\n",
       "  <thead>\n",
       "    <tr style=\"text-align: right;\">\n",
       "      <th></th>\n",
       "      <th>Metric</th>\n",
       "      <th>Initial results (No sampling)</th>\n",
       "      <th>Random</th>\n",
       "      <th>SMOTE</th>\n",
       "      <th>SMOTE+Undersampling</th>\n",
       "      <th>Random+Undersampling</th>\n",
       "    </tr>\n",
       "  </thead>\n",
       "  <tbody>\n",
       "    <tr>\n",
       "      <th>0</th>\n",
       "      <td>Accuracy</td>\n",
       "      <td>0.8925</td>\n",
       "      <td>0.8966</td>\n",
       "      <td>0.8954</td>\n",
       "      <td>0.8971</td>\n",
       "      <td>0.8971</td>\n",
       "    </tr>\n",
       "    <tr>\n",
       "      <th>1</th>\n",
       "      <td>Precision</td>\n",
       "      <td>0.7948</td>\n",
       "      <td>0.7748</td>\n",
       "      <td>0.7744</td>\n",
       "      <td>0.7524</td>\n",
       "      <td>0.7539</td>\n",
       "    </tr>\n",
       "    <tr>\n",
       "      <th>2</th>\n",
       "      <td>Recall</td>\n",
       "      <td>0.6583</td>\n",
       "      <td>0.7139</td>\n",
       "      <td>0.7083</td>\n",
       "      <td>0.7611</td>\n",
       "      <td>0.7597</td>\n",
       "    </tr>\n",
       "    <tr>\n",
       "      <th>3</th>\n",
       "      <td>F1 Score</td>\n",
       "      <td>0.7145</td>\n",
       "      <td>0.7396</td>\n",
       "      <td>0.7362</td>\n",
       "      <td>0.7537</td>\n",
       "      <td>0.7534</td>\n",
       "    </tr>\n",
       "  </tbody>\n",
       "</table>\n",
       "</div>"
      ],
      "text/plain": [
       "      Metric  Initial results (No sampling)  Random   SMOTE  \\\n",
       "0   Accuracy                         0.8925  0.8966  0.8954   \n",
       "1  Precision                         0.7948  0.7748  0.7744   \n",
       "2     Recall                         0.6583  0.7139  0.7083   \n",
       "3   F1 Score                         0.7145  0.7396  0.7362   \n",
       "\n",
       "   SMOTE+Undersampling  Random+Undersampling  \n",
       "0               0.8971                0.8971  \n",
       "1               0.7524                0.7539  \n",
       "2               0.7611                0.7597  \n",
       "3               0.7537                0.7534  "
      ]
     },
     "execution_count": 204,
     "metadata": {},
     "output_type": "execute_result"
    }
   ],
   "source": [
    "print('Iteration 3:')\n",
    "summary_scores_df['SMOTE+Undersampling'] = cross_val_iter3(X,y, scoring_lst = ['accuracy', 'precision','recall', 'f1'], oversampling_technique = 'SMOTE')\n",
    "summary_scores_df['Random+Undersampling'] = cross_val_iter3(X,y, scoring_lst = ['accuracy', 'precision','recall', 'f1'], oversampling_technique = 'Random')\n",
    "summary_scores_df"
   ]
  },
  {
   "cell_type": "code",
   "execution_count": 206,
   "metadata": {},
   "outputs": [
    {
     "data": {
      "text/html": [
       "<div>\n",
       "<style scoped>\n",
       "    .dataframe tbody tr th:only-of-type {\n",
       "        vertical-align: middle;\n",
       "    }\n",
       "\n",
       "    .dataframe tbody tr th {\n",
       "        vertical-align: top;\n",
       "    }\n",
       "\n",
       "    .dataframe thead th {\n",
       "        text-align: right;\n",
       "    }\n",
       "</style>\n",
       "<table border=\"1\" class=\"dataframe\">\n",
       "  <thead>\n",
       "    <tr style=\"text-align: right;\">\n",
       "      <th></th>\n",
       "      <th>Metric</th>\n",
       "      <th>Initial results (No sampling)</th>\n",
       "      <th>SMOTE+Undersampling</th>\n",
       "    </tr>\n",
       "  </thead>\n",
       "  <tbody>\n",
       "    <tr>\n",
       "      <th>0</th>\n",
       "      <td>Accuracy</td>\n",
       "      <td>0.8925</td>\n",
       "      <td>0.8971</td>\n",
       "    </tr>\n",
       "    <tr>\n",
       "      <th>1</th>\n",
       "      <td>Precision</td>\n",
       "      <td>0.7948</td>\n",
       "      <td>0.7524</td>\n",
       "    </tr>\n",
       "    <tr>\n",
       "      <th>2</th>\n",
       "      <td>Recall</td>\n",
       "      <td>0.6583</td>\n",
       "      <td>0.7611</td>\n",
       "    </tr>\n",
       "    <tr>\n",
       "      <th>3</th>\n",
       "      <td>F1 Score</td>\n",
       "      <td>0.7145</td>\n",
       "      <td>0.7537</td>\n",
       "    </tr>\n",
       "  </tbody>\n",
       "</table>\n",
       "</div>"
      ],
      "text/plain": [
       "      Metric  Initial results (No sampling)  SMOTE+Undersampling\n",
       "0   Accuracy                         0.8925               0.8971\n",
       "1  Precision                         0.7948               0.7524\n",
       "2     Recall                         0.6583               0.7611\n",
       "3   F1 Score                         0.7145               0.7537"
      ]
     },
     "execution_count": 206,
     "metadata": {},
     "output_type": "execute_result"
    }
   ],
   "source": [
    "summary_scores_df[['Metric','Initial results (No sampling)', 'SMOTE+Undersampling']]"
   ]
  },
  {
   "cell_type": "markdown",
   "metadata": {},
   "source": [
    "An increase from 0.6583 to 0.7611 in the recall has been observed due to sampling, around 16 %.\n",
    "Although the precision has suffered, an approximately 5.5% increase in the f1-score indicates that the overall performance has improved and the tradeoff was worth it."
   ]
  }
 ],
 "metadata": {
  "kernelspec": {
   "display_name": "Python 3",
   "language": "python",
   "name": "python3"
  },
  "language_info": {
   "codemirror_mode": {
    "name": "ipython",
    "version": 3
   },
   "file_extension": ".py",
   "mimetype": "text/x-python",
   "name": "python",
   "nbconvert_exporter": "python",
   "pygments_lexer": "ipython3",
   "version": "3.7.6"
  }
 },
 "nbformat": 4,
 "nbformat_minor": 2
}
